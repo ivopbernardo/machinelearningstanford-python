{
 "cells": [
  {
   "cell_type": "markdown",
   "metadata": {},
   "source": [
    "Os seguintes scripts são uma versão Python do curso de Machine Learning do professor Andrew Ng da universidade de Stanford leccionado na plataforma Coursera.\n",
    "\n",
    "**Nota: Todos os dados e estrutura do exercício pertencem à Universidade de Stanford**\n",
    "\n",
    "**Ressalva:** Os scripts não estão implementados de forma modular para todas as funções serem consultadas no mesmo Jupyter Notebook - ao contrário da implementação Octave."
   ]
  },
  {
   "cell_type": "code",
   "execution_count": 3,
   "metadata": {},
   "outputs": [],
   "source": [
    "# Importar o numpy para lidar com matrizes e vectores\n",
    "import numpy as np\n",
    "# Importar o pandas para ler os ficheiros \n",
    "import pandas as pd\n",
    "# Importar matplotlib para construir gráficos\n",
    "import matplotlib.pyplot as plt\n",
    "\n",
    "%matplotlib inline"
   ]
  },
  {
   "cell_type": "markdown",
   "metadata": {},
   "source": [
    "O primeiro exercício consiste em desenvolver uma regressão linear com múltiplas variáveis.\n",
    "<br>\n",
    "<br>\n",
    "Quando lidamos com múltiplas variáveis, em muitos algoritmos, é necessário estandardizar as variáveis, ou seja, coloca-las na mesma escala. No algoritmo do gradiente descendente, normalizar as variáveis faz com que o algoritmo seja mais rápido a converger."
   ]
  },
  {
   "cell_type": "markdown",
   "metadata": {},
   "source": [
    "# Exercício 1 - Normalizar as variáveis"
   ]
  },
  {
   "cell_type": "markdown",
   "metadata": {},
   "source": [
    "Os dados que vamos analisar são de uma empresa de imobiliário. Neste exemplo, vamos tentar prever o valor de uma casa com base em duas variáveis:\n",
    "- O tamanho de casa (em metros quadrados);\n",
    "- O número de quartos;\n",
    "<br>\n",
    "<br>\n",
    "Conseguimos desenvolver um algoritmo capaz de, dado o tamanho da casa e o número de quartos, prever o preço da propriedade com precisão?"
   ]
  },
  {
   "cell_type": "code",
   "execution_count": 36,
   "metadata": {},
   "outputs": [
    {
     "name": "stdout",
     "output_type": "stream",
     "text": [
      "# exemplos de treino: 47 \n",
      "\n",
      "Alguns exemplos de treino da tabela: \n",
      "\n",
      "X = [1600    3] , y = 329900\n",
      "X = [2400    3] , y = 369000\n",
      "X = [1416    2] , y = 232000\n",
      "X = [3000    4] , y = 539900\n",
      "X = [1985    4] , y = 299900\n",
      "X = [1534    3] , y = 314900\n",
      "X = [1427    3] , y = 198999\n",
      "X = [1380    3] , y = 212000\n",
      "X = [1494    3] , y = 242500\n"
     ]
    }
   ],
   "source": [
    "# Ler o ficheiro de texto e criar o objecto das variáveis e o target y \n",
    "ex2_file = pd.read_csv('ex1data2.txt', header=None) \n",
    "\n",
    "X = np.array(ex2_file.iloc[:,0:2])\n",
    "\n",
    "y = np.array(ex2_file.iloc[:,2])\n",
    "\n",
    "print('# exemplos de treino: {} \\n'.format(len(X)))\n",
    "\n",
    "print('Alguns exemplos de treino da tabela: \\n')\n",
    "\n",
    "for i in np.arange(1,10):\n",
    "    print('X = {} , y = {}'.format(X[i], y[i]))"
   ]
  },
  {
   "cell_type": "code",
   "execution_count": 37,
   "metadata": {},
   "outputs": [],
   "source": [
    "# Normalizar as variáveis - fórmula de estandardização\n",
    "\n",
    "def normalizacaoVariaveis(\n",
    "    variaveis: np.array\n",
    ") -> [np.array, np.array, np.array]:\n",
    "    \"\"\"\n",
    "    \n",
    "    Retorna a versão estandardizada da matriz \"variaveis\"\n",
    "    A fórmula aplicada para z é ((xi-média)/desvio padrão)\n",
    "    onde i é cada observação para a coluna nth\n",
    "    \n",
    "    Args:\n",
    "        variaveis (np.array): A matriz de n colunas para normalizar.\n",
    "        \n",
    "    Returns:\n",
    "        X_norm (np.array): Matriz de valores estandardizados.\n",
    "        media (np.array): Media de cada coluna n.\n",
    "        desvpad (np.array): Desvio padrão de cada coluna n.\n",
    "        \n",
    "    \"\"\"\n",
    "    \n",
    "    media = variaveis.mean(axis=0)\n",
    "    # para ter o mesmo resultado de estandardização do Octave, usamos os graus de liberdade = 1\n",
    "    desvpad = variaveis.std(axis=0,ddof=1)\n",
    "    X_norm = ((variaveis-media)/desvpad)\n",
    "    return X_norm, media, desvpad"
   ]
  },
  {
   "cell_type": "markdown",
   "metadata": {},
   "source": [
    "Vamos aplicar a estandardização de acordo com a seguinte fórmula:"
   ]
  },
  {
   "cell_type": "markdown",
   "metadata": {},
   "source": [
    "<img src='assets/Standardization.png'>"
   ]
  },
  {
   "cell_type": "markdown",
   "metadata": {},
   "source": [
    "**A estandardização da variável Z é feita aplicando a fórmula acima:**\n",
    "<br>\n",
    "- Xi corresponde a inésima observação.\n",
    "<br>\n",
    "- μ é a média da variável.\n",
    "<br>\n",
    "- σ é o desvio padrão da variável."
   ]
  },
  {
   "cell_type": "code",
   "execution_count": 38,
   "metadata": {},
   "outputs": [],
   "source": [
    "# Obter a matriz normalizada, o vector de médias e o vector de desvios-padrão\n",
    "X, media, sigma = normalizacaoVariaveis(X)"
   ]
  },
  {
   "cell_type": "code",
   "execution_count": 39,
   "metadata": {},
   "outputs": [],
   "source": [
    "# Adicionar a coluna de uns \n",
    "vector_uns = np.ones((len(X),1))\n",
    "# Criamos um objecto X_ext para não reescrever o objecto X\n",
    "X_ext = np.hstack((vector_uns,X))"
   ]
  },
  {
   "cell_type": "markdown",
   "metadata": {},
   "source": [
    "Tal como fizemos com uma variável, vamos usar o gradiente descendente para encontrar os thetas óptimos que minimizam o erro.\n",
    "<br>\n",
    "A diferença é que agora vamos ter um novo Θ para optimizar (Θ2) - em vez de termos apenas Θ0 e Θ1.\n",
    "\n",
    "Vamos seguir uma abordagem vectorizada. Para grandes valores de m (observações) ou n (número de colunas+1, thetas para optimizar), uma abordagem vectorizada é preferencial sobre uma abordagem de ciclo já que é computacionalmente mais barata.\n",
    "\n",
    "Verificando as formulas:"
   ]
  },
  {
   "cell_type": "markdown",
   "metadata": {},
   "source": [
    "<img src='assets/Multivariate Cost Function.JPG'>"
   ]
  },
  {
   "cell_type": "markdown",
   "metadata": {},
   "source": [
    "# Exercício 2 - Gradiente Descendente"
   ]
  },
  {
   "cell_type": "code",
   "execution_count": 40,
   "metadata": {},
   "outputs": [],
   "source": [
    "# Cálculo do gradiente para multiplas variáveis\n",
    "# Inicializar o vector de thetas, o rácio de aprendizagem e o número de iteracções\n",
    "theta = np.zeros((3,1))\n",
    "alpha = 0.1;\n",
    "num_iters = 400;"
   ]
  },
  {
   "cell_type": "code",
   "execution_count": 41,
   "metadata": {},
   "outputs": [],
   "source": [
    "# Definir a função de custo multi-variável\n",
    "def calcularCustoMulti (\n",
    "    X: np.array, \n",
    "    y:np.array , \n",
    "    theta: np.array\n",
    ") -> int:\n",
    "    \"\"\"\n",
    "    \n",
    "    Retorna a função de custo (média do erro quadrado)\n",
    "    usando o cálculo da matriz X*theta e o seu output Y\n",
    "    \n",
    "    Args:\n",
    "        X (np.array): Os valores de cada observação.\n",
    "        y (np.array): Os valores a prever.\n",
    "        theta (np.array): O peso dado a cada variável \n",
    "        que será calculado por X e representa a hipótese.\n",
    "        \n",
    "    Retorna:\n",
    "        J (int): A soma dos erros quadrados \n",
    "        - total da função de custo\n",
    "        \n",
    "    \"\"\" \n",
    "    m = len(y) \n",
    "    # Calcular hipótese\n",
    "    hipotese = np.dot(X,theta)\n",
    "    # Calcular a função de custo, usando o erro quadrado\n",
    "    J = (sum((hipotese-y.reshape(len(y),1))**2))/(2*m)\n",
    "    return J\n",
    "\n",
    "# Definir a função do gradiente multivariável\n",
    "def gradientDescentMulti(\n",
    "    X: np.array,\n",
    "    y: np.array,\n",
    "    theta: np.array,\n",
    "    alpha: float,\n",
    "    num_iters: int\n",
    ") -> [np.array, np.array]:\n",
    "    \"\"\"\n",
    "    \n",
    "    Calcula o theta óptimo baseado nas iterações \n",
    "    e histórico da função de custo.\n",
    "    \n",
    "    Args:\n",
    "        X (np.array): Os valores de cada observação.\n",
    "        y (np.array): Os valores de previsão.\n",
    "        theta (np.array): O peso inicial a ser atríbuido a cada\n",
    "        variável para o cálculo da hipótese.\n",
    "        alpha(float): O rácio de aprendizagem do gradiente descendente.\n",
    "        num_iters(int): O número de iterações.\n",
    "        \n",
    "    Retorna:\n",
    "        Theta (np.array): O vector de thetas optimizado retornado\n",
    "        pela última iteração do gradiente descendente.\n",
    "        J_history (np.array): A história do erro ao longo\n",
    "        das diversas iterações do gradiente descendente.\n",
    "        \n",
    "    \"\"\" \n",
    "    \n",
    "    m = len(y)\n",
    "    # Inicializar o vector de histórico das funções de custo\n",
    "    J_historico = np.zeros((num_iters, 1))\n",
    "    # Iterar por cada iteracao\n",
    "    for i in np.arange(0,num_iters):\n",
    "        # Calcular a hipótese\n",
    "        hipotese = np.dot(X,theta)\n",
    "        # Update theta by computing gradient\n",
    "        theta -= alpha * (1/m) * np.dot(np.transpose(X),(hipotese-y.reshape(len(y),1)))\n",
    "        # Assignar a função de custo ao element i do histórico\n",
    "        J_historico[i] = calcularCustoMulti(X,y,theta)\n",
    "    return theta, J_historico "
   ]
  },
  {
   "cell_type": "code",
   "execution_count": 42,
   "metadata": {},
   "outputs": [],
   "source": [
    "# Returnar o valor do theta óptimo computado pelo gradiente descendente e respectivo histórico.\n",
    "theta, J_historico = gradientDescentMulti(X_ext,y,theta,alpha,num_iters)"
   ]
  },
  {
   "cell_type": "markdown",
   "metadata": {},
   "source": [
    "Ao colocarmos num gráfico a convergência da função de custo, notamos alguns dados:\n",
    "<br>\n",
    "    -  A função de custo estabiliza depois de ~25 iterações;\n",
    "    -  A função de custa muda mais rápido nas primeiras iterações. Depois da 25 iteração, a mudança nos parâmetros Θ apenas trazem mudanças décimas na função de custo J;\n",
    "<br>\n",
    "Vamos usar o código seguinte para colocar num gráfico o histórico de funções de custo:"
   ]
  },
  {
   "cell_type": "code",
   "execution_count": 43,
   "metadata": {},
   "outputs": [
    {
     "data": {
      "text/plain": [
       "Text(0, 0.5, 'Função de Custo - J - Erro Quadrado Médio')"
      ]
     },
     "execution_count": 43,
     "metadata": {},
     "output_type": "execute_result"
    },
    {
     "data": {
      "image/png": "[encoded data removed]",
      "text/plain": [
       "<Figure size 432x288 with 1 Axes>"
      ]
     },
     "metadata": {
      "needs_background": "light"
     },
     "output_type": "display_data"
    }
   ],
   "source": [
    "# Colocar o valor de J ao longo das iterações do gradiente descendente\n",
    "plt.plot(np.arange(0,num_iters),J_historico,c='blue')\n",
    "plt.xlabel('Número de Iterações')\n",
    "plt.ylabel('Função de Custo - J - Erro Quadrado Médio')"
   ]
  },
  {
   "cell_type": "markdown",
   "metadata": {},
   "source": [
    "**A função de custo pode convergir para um mínimo mais lentamente se mudarmos um rácio de aprendizagem menor.**"
   ]
  },
  {
   "cell_type": "markdown",
   "metadata": {},
   "source": [
    "**Qual foi o valor óptimo de thetas gerado?**"
   ]
  },
  {
   "cell_type": "code",
   "execution_count": 44,
   "metadata": {},
   "outputs": [
    {
     "name": "stdout",
     "output_type": "stream",
     "text": [
      "Theta calculado pelo gradiente descendente:\n",
      " [[340412.65957447]\n",
      " [110631.04895815]\n",
      " [ -6649.47295013]]\n"
     ]
    }
   ],
   "source": [
    "print('Theta calculado pelo gradiente descendente:\\n {}'.format(theta))"
   ]
  },
  {
   "cell_type": "markdown",
   "metadata": {},
   "source": [
    "Podemos agora usar os novos thetas para prever exemplos de novas casas. Por exemplo, imaginemos que temos uma nova casa que tem de área 1650 metros quadrados e tem três quartos. Dado isto, qual o preço previsto?"
   ]
  },
  {
   "cell_type": "code",
   "execution_count": 45,
   "metadata": {},
   "outputs": [],
   "source": [
    "test_example = np.array((1, 1650, 3)).astype('float64')\n",
    "test_example[1:] = (test_example[1:].reshape(1,2)-media.reshape(1,2))/sigma.reshape(1,2)\n",
    "preco = np.dot(test_example, theta)"
   ]
  },
  {
   "cell_type": "code",
   "execution_count": 46,
   "metadata": {},
   "outputs": [
    {
     "name": "stdout",
     "output_type": "stream",
     "text": [
      "Preço previsto para uma casa de 1650 m^2 e três quartos (usando o gradiente descendente): \n",
      " 293081 $\n"
     ]
    }
   ],
   "source": [
    "print ('Preço previsto para uma casa de 1650 m^2 e três quartos (usando o gradiente descendente): \\n {} $'.format(int(preco)))"
   ]
  },
  {
   "cell_type": "markdown",
   "metadata": {},
   "source": [
    "Para este problema linear, usamos o gradiente descendente para minizar a função de erro e calcularmos os nossos thetas optimizados.\n",
    "<br>\n",
    "<br> \n",
    "Mas, existe outro métodos que podemos utilizar para encontrar o erro mínimo numa regressão linear (este método acaba por também ser computacionalmente melhor já que recorre exclusivamente a vectorizações, evitando o gradiente descendente).\n",
    "Este método chama-se de Método dos Minimos Quadrados.\n",
    "<br>\n",
    "<br>\n",
    "**A fórmula utilizada para calcular o vector otimizado de thetas usando o MMQ:**"
   ]
  },
  {
   "cell_type": "markdown",
   "metadata": {},
   "source": [
    "<img src='assets/NormalEquations.JPG'>"
   ]
  },
  {
   "cell_type": "markdown",
   "metadata": {},
   "source": [
    "# Exercício 4 - MMQ - Metódo Mínimos Quadrados"
   ]
  },
  {
   "cell_type": "code",
   "execution_count": 51,
   "metadata": {},
   "outputs": [],
   "source": [
    "# Ler os dados novamente\n",
    "ex2_file = pd.read_csv('ex1data2.txt', header=None) \n",
    "X = np.array(ex2_file.iloc[:,0:2])\n",
    "y = np.array(ex2_file.iloc[:,2])\n",
    "\n",
    "m = y.size\n",
    "\n",
    "# Estandardizar\n",
    "X, _, _ = normalizacaoVariaveis(X)\n",
    "\n",
    "# Adicionar uma coluna de 1's \n",
    "X = np.concatenate([np.ones((m, 1)), X], axis=1)"
   ]
  },
  {
   "cell_type": "code",
   "execution_count": 52,
   "metadata": {},
   "outputs": [],
   "source": [
    "def metodoMinimosQuadrados(\n",
    "    X: np.array,\n",
    "    y: np.array\n",
    ") -> np.array:\n",
    "    \"\"\"\n",
    "    \n",
    "    Calculo os thetas optimos utilizado o \n",
    "    Método dos mínimos quadrados.\n",
    "    \n",
    "    Args:\n",
    "        X (np.array): Os valores para cada observação.\n",
    "        y (np.array): Os valores a prever.\n",
    "        \n",
    "    Retorna:\n",
    "        Theta (np.array): O vector de thetas optimizado\n",
    "        pelo método dos mínimos quadrados.\n",
    "        \n",
    "    \"\"\" \n",
    "    # Inicializar vector de thetas\n",
    "    theta = np.zeros(X.shape[1])\n",
    "    # Calcular thetas\n",
    "    theta = np.dot(np.dot(np.linalg.inv(np.dot(X.T,X)),X.T),y)\n",
    "    \n",
    "    return theta"
   ]
  },
  {
   "cell_type": "code",
   "execution_count": 53,
   "metadata": {},
   "outputs": [],
   "source": [
    "theta = metodoMinimosQuadrados(X,y)"
   ]
  },
  {
   "cell_type": "code",
   "execution_count": 55,
   "metadata": {},
   "outputs": [
    {
     "name": "stdout",
     "output_type": "stream",
     "text": [
      "Os thetas calculados pelo método dos mínimos quadrados:\n",
      " [340412.65957447 110631.05027885  -6649.47427082]\n"
     ]
    }
   ],
   "source": [
    "print('Os thetas calculados pelo método dos mínimos quadrados:\\n {}'.format(theta))"
   ]
  },
  {
   "cell_type": "markdown",
   "metadata": {},
   "source": [
    "Reparamos como os thetas calculados pelo MMQ é aproximadamente o mesmo que foi retornado pela optimização do gradiente descendente. \n",
    "<br>\n",
    "E conseguimos fazer isso com muito menos linhas de código! \n",
    "<br>\n",
    "**A ressalva neste método é que apenas funciona para equações lineares - uma enorme limitação no que a funções que queremos aprender com aprendizagem de máquina - não são muitos os problemas no mundo real que podem ser aprendidos com uma simples função linear.**"
   ]
  },
  {
   "cell_type": "markdown",
   "metadata": {},
   "source": [
    "Temos a mesma previsão para a nova casa?"
   ]
  },
  {
   "cell_type": "code",
   "execution_count": 57,
   "metadata": {},
   "outputs": [
    {
     "name": "stdout",
     "output_type": "stream",
     "text": [
      "Preço previsto para uma casa de 1650 m^2 e três quartos (usando o método dos mínimos quadrados): \n",
      " 293081 $\n"
     ]
    }
   ],
   "source": [
    "exemplo_teste = np.array((1, 1650, 3)).astype('float64')\n",
    "exemplo_teste[1:] = (exemplo_teste[1:].reshape(1,2)-media.reshape(1,2))/sigma.reshape(1,2)\n",
    "preco = np.dot(exemplo_teste, theta)\n",
    "\n",
    "print ('Preço previsto para uma casa de 1650 m^2 e três quartos (usando o método dos mínimos quadrados): \\n {} $'.format(int(preco)))"
   ]
  }
 ],
 "metadata": {
  "kernelspec": {
   "display_name": "Python 3",
   "language": "python",
   "name": "python3"
  },
  "language_info": {
   "codemirror_mode": {
    "name": "ipython",
    "version": 3
   },
   "file_extension": ".py",
   "mimetype": "text/x-python",
   "name": "python",
   "nbconvert_exporter": "python",
   "pygments_lexer": "ipython3",
   "version": "3.7.7"
  }
 },
 "nbformat": 4,
 "nbformat_minor": 2
}
