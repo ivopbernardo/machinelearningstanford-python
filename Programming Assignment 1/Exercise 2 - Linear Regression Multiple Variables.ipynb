{
 "cells": [
  {
   "cell_type": "markdown",
   "metadata": {},
   "source": [
    "The following script consists of a Python version of Andrew Ng's Stanford Course 'Machine Learning' taught on the Coursera Platform\n",
    "\n",
    "**Note: All exercise data and structure are credited to Stanford University** \n",
    "\n",
    "**Caveat:** Contrary to the modularity presented in Octave scripts and as I'm using Jupyter Notebooks for educational purposes we will implement the functions on the same notebook where we will call them"
   ]
  },
  {
   "cell_type": "code",
   "execution_count": 49,
   "metadata": {},
   "outputs": [],
   "source": [
    "#Import numpy libraries to deal with matrixes and vectors\n",
    "import numpy as np\n",
    "#Import pandas do read data files\n",
    "import pandas as pd\n",
    "#Import matplotlib to plot data\n",
    "import matplotlib.pyplot as plt\n",
    "\n",
    "#Matplotlib notebook property\n",
    "%matplotlib inline"
   ]
  },
  {
   "cell_type": "markdown",
   "metadata": {},
   "source": [
    "First exercise consists of developing a multiple variable linear regression. \n",
    "<br>\n",
    "When we deal with multiple variables it is normally necessary (in most algorithms that rely on distances) to normalize features between a specific range. \n",
    "<br>\n",
    "By doing this, we avoid that the features with a higher range of values (1-1000, as an example) have higher influence on the gradient descent."
   ]
  },
  {
   "cell_type": "markdown",
   "metadata": {},
   "source": [
    "# Exercise 1 - Normalizing Features"
   ]
  },
  {
   "cell_type": "code",
   "execution_count": 50,
   "metadata": {},
   "outputs": [
    {
     "name": "stdout",
     "output_type": "stream",
     "text": [
      "# of training examples: 47 \n",
      "\n",
      "Printing some examples of training table: \n",
      "\n",
      "X = [1600    3] , y = 329900\n",
      "X = [2400    3] , y = 369000\n",
      "X = [1416    2] , y = 232000\n",
      "X = [3000    4] , y = 539900\n",
      "X = [1985    4] , y = 299900\n",
      "X = [1534    3] , y = 314900\n",
      "X = [1427    3] , y = 198999\n",
      "X = [1380    3] , y = 212000\n",
      "X = [1494    3] , y = 242500\n"
     ]
    }
   ],
   "source": [
    "# Read Text File and create X and y variables \n",
    "# Keeping them as Pandas iSeries would be almost the same but \n",
    "# it is more \"pure\" in terms of comparison with Octave to have array objects\n",
    "ex2_file = pd.read_csv('ex1data2.txt', header=None) \n",
    "\n",
    "X = np.array(ex2_file.iloc[:,0:2])\n",
    "\n",
    "y = np.array(ex2_file.iloc[:,2])\n",
    "\n",
    "print('# of training examples: {} \\n'.format(len(X)))\n",
    "\n",
    "print('Printing some examples of training table: \\n')\n",
    "\n",
    "for i in np.arange(1,10):\n",
    "    print('X = {} , y = {}'.format(X[i], y[i]))"
   ]
  },
  {
   "cell_type": "code",
   "execution_count": 51,
   "metadata": {},
   "outputs": [],
   "source": [
    "# Normalize Features - Applying standardization of the variables\n",
    "\n",
    "def featureNormalize(\n",
    "    features: np.array\n",
    "):\n",
    "    mean = X.mean(axis=0)\n",
    "    # To get the same result as Octave std function you have to set degrees of freedom to 1 with the ddof parameter\n",
    "    sigma = X.std(axis=0,ddof=1)\n",
    "    X_norm = ((X-mean)/sigma)\n",
    "    return X_norm, mean, sigma"
   ]
  },
  {
   "cell_type": "markdown",
   "metadata": {},
   "source": [
    "In this case we are going to apply a standardization of the variables, based on the following formula:"
   ]
  },
  {
   "cell_type": "markdown",
   "metadata": {},
   "source": [
    "<img src='assets/Standardization.png'>"
   ]
  },
  {
   "cell_type": "markdown",
   "metadata": {},
   "source": [
    "**Where Xi is equal to the ith observation,\n",
    "<br>\n",
    "μ is equal to the mean of the variable and \n",
    "<br>\n",
    "σ is equal to the standard deviation of the variable**"
   ]
  },
  {
   "cell_type": "code",
   "execution_count": 52,
   "metadata": {},
   "outputs": [],
   "source": [
    "# Retrieve original matrix, mu and sigma\n",
    "X, mu, sigma = featureNormalize(X)"
   ]
  },
  {
   "cell_type": "code",
   "execution_count": 53,
   "metadata": {},
   "outputs": [],
   "source": [
    "# Add column of ones to the array \n",
    "ones_vector = np.ones((len(X),1))\n",
    "# Creating X_ext object to avoid overwriting original X object\n",
    "X_ext = np.hstack((ones_vector,X))"
   ]
  },
  {
   "cell_type": "markdown",
   "metadata": {},
   "source": [
    "Just like we have done with a single variable, we are going to do gradient descent for multiple variables.\n",
    "<br>\n",
    "The difference in this example is that we are going to have a new Θ to optimize (Θ2).\n",
    "\n",
    "We are going to do a vectorized approach as, for larger values of m (observations) or n (number of Θ's to optimize), a vectorized approach is always preferable as it is computationally cheaper.\n",
    "\n",
    "Checking the formulas: "
   ]
  },
  {
   "cell_type": "markdown",
   "metadata": {},
   "source": [
    "<img src='assets/Multivariate Cost Function.JPG'>"
   ]
  },
  {
   "cell_type": "markdown",
   "metadata": {},
   "source": [
    "# Exercise 2 - Gradient Descent"
   ]
  },
  {
   "cell_type": "code",
   "execution_count": 54,
   "metadata": {},
   "outputs": [],
   "source": [
    "# Compute gradient for multiple features \n",
    "# Initialize theta, learning rates and number of iterations\n",
    "theta = np.zeros((3,1))\n",
    "alpha = 0.1;\n",
    "num_iters = 400;"
   ]
  },
  {
   "cell_type": "code",
   "execution_count": 55,
   "metadata": {},
   "outputs": [],
   "source": [
    "# Define multivariable Cost Function\n",
    "def computeCostMulti (\n",
    "    X: np.array, \n",
    "    y:np.array , \n",
    "    theta: np.array\n",
    ") -> int:\n",
    "    m = len(y) \n",
    "    # Compute hypothesis\n",
    "    hypothesis = np.dot(X,theta)\n",
    "    # Compute cost function, using average squared error due\n",
    "    J = (sum((hypothesis-y.reshape(len(y),1))**2))/(2*m)\n",
    "    return J\n",
    "\n",
    "# Define multivariate Gradient Descent\n",
    "\n",
    "def gradientDescentMulti(\n",
    "    X: np.array,\n",
    "    y: np.array,\n",
    "    theta: np.array,\n",
    "    alpha: float,\n",
    "    num_iters: int\n",
    ") -> [np.array, np.array]:\n",
    "    \n",
    "    m = len(y)\n",
    "    # Create vector where we will input each result of the cost function\n",
    "    J_history = np.zeros((num_iters, 1))\n",
    "    # loop through each iteration\n",
    "    for i in np.arange(0,num_iters):\n",
    "        # Compute hypothesis\n",
    "        hypothesis = np.dot(X,theta)\n",
    "        # Update theta by computing gradient\n",
    "        theta -= alpha * (1/m) * np.dot(np.transpose(X),(hypothesis-y.reshape(len(y),1)))\n",
    "        # Assign cost function value with new theta to the J_history ith position\n",
    "        J_history[i] = computeCostMulti(X,y,theta)\n",
    "    return theta, J_history "
   ]
  },
  {
   "cell_type": "code",
   "execution_count": 56,
   "metadata": {},
   "outputs": [],
   "source": [
    "# Return value of theta on the last iteration and an array with the history of the cost function\n",
    "theta, J_history = gradientDescentMulti(X_ext,y,theta,alpha,num_iters)"
   ]
  },
  {
   "cell_type": "markdown",
   "metadata": {},
   "source": [
    "By plotting the convergence of the Cost Function we can notice several things:\n",
    "<br>\n",
    "    -  The cost function stabilized after ~300 iterations;\n",
    "    -  The cost function changes by a higher magnitude on the first iterations. After the 250th iteration, the change in the Θ parameters only bring decimal changes to the cost function;\n",
    "<br>\n",
    "We will use the code below to plot the J_history object - Cost Function at each iteration:"
   ]
  },
  {
   "cell_type": "code",
   "execution_count": 57,
   "metadata": {},
   "outputs": [
    {
     "data": {
      "text/plain": [
       "Text(0, 0.5, 'Cost Function (J)')"
      ]
     },
     "execution_count": 57,
     "metadata": {},
     "output_type": "execute_result"
    },
    {
     "data": {
      "image/png": "[encoded data removed]",
      "text/plain": [
       "<Figure size 432x288 with 1 Axes>"
      ]
     },
     "metadata": {
      "needs_background": "light"
     },
     "output_type": "display_data"
    }
   ],
   "source": [
    "# Plot the convergence graph - notice how after 250 iterations the curve starts to become flat\n",
    "plt.plot(np.arange(0,num_iters),J_history,c='blue')\n",
    "plt.xlabel('Number of Iterations')\n",
    "plt.ylabel('Cost Function (J)')"
   ]
  },
  {
   "cell_type": "code",
   "execution_count": 58,
   "metadata": {},
   "outputs": [
    {
     "name": "stdout",
     "output_type": "stream",
     "text": [
      "Theta computed from gradient descent \n",
      " [[340412.65957447]\n",
      " [110631.04895815]\n",
      " [ -6649.47295013]]\n"
     ]
    }
   ],
   "source": [
    "print('Theta computed from gradient descent \\n {}'.format(theta))"
   ]
  },
  {
   "cell_type": "code",
   "execution_count": 59,
   "metadata": {},
   "outputs": [],
   "source": [
    "test_example = np.array((1, 1650, 3)).astype('float64')\n",
    "test_example[1:] = (test_example[1:].reshape(1,2)-mu.reshape(1,2))/sigma.reshape(1,2)\n",
    "price = np.dot(test_example, theta)"
   ]
  },
  {
   "cell_type": "code",
   "execution_count": 60,
   "metadata": {},
   "outputs": [
    {
     "name": "stdout",
     "output_type": "stream",
     "text": [
      "Predicted price for a 1650 sq-ft, 3 br house (using gradient descent) is : \n",
      " 293081\n"
     ]
    }
   ],
   "source": [
    "print ('Predicted price for a 1650 sq-ft, 3 br house (using gradient descent) is : \\n {}'.format(int(price)))"
   ]
  },
  {
   "cell_type": "markdown",
   "metadata": {},
   "source": [
    "Now, for this linear problem we have used gradient descent to minimize the squared error function. \n",
    "<br> \n",
    "But, there is another method that can be used when finding the minimum error for multiple linear regression (also, this method ends up being less computationally expensive as it solves the problem by using vectorization, avoiding the gradient descent iteration).\n",
    "That method is called Normal Equations or OLS - Ordinary least squares.\n",
    "\n",
    "The vectorized formula is as follows:"
   ]
  },
  {
   "cell_type": "markdown",
   "metadata": {},
   "source": [
    "<img src='assets/NormalEquations.JPG'>"
   ]
  },
  {
   "cell_type": "markdown",
   "metadata": {},
   "source": [
    "# Exercise 3 - Normal Equations"
   ]
  },
  {
   "cell_type": "code",
   "execution_count": 100,
   "metadata": {},
   "outputs": [],
   "source": [
    "# Load the data Again\n",
    "ex2_file = pd.read_csv('ex1data2.txt', header=None) \n",
    "X = np.array(ex2_file.iloc[:,0:2])\n",
    "y = np.array(ex2_file.iloc[:,2])\n",
    "\n",
    "m = y.size\n",
    "\n",
    "#Add column of ones to the array \n",
    "X = np.concatenate([np.ones((m, 1)), X_norm], axis=1)"
   ]
  },
  {
   "cell_type": "code",
   "execution_count": 101,
   "metadata": {},
   "outputs": [],
   "source": [
    "def normalEqn(\n",
    "    X: np.array,\n",
    "    y: np.array\n",
    ") -> np.array:\n",
    "    \n",
    "    # Calculate inverse of Matrix\n",
    "    \n",
    "    theta = np.zeros(X.shape[1])\n",
    "    \n",
    "    theta = np.dot(np.dot(np.linalg.inv(np.dot(X.T,X)),X.T),y)\n",
    "    \n",
    "    return theta"
   ]
  },
  {
   "cell_type": "code",
   "execution_count": 102,
   "metadata": {},
   "outputs": [],
   "source": [
    "theta = normalEqn(X,y)"
   ]
  },
  {
   "cell_type": "code",
   "execution_count": 105,
   "metadata": {},
   "outputs": [
    {
     "name": "stdout",
     "output_type": "stream",
     "text": [
      "Theta computed from the Normal Equation Method \n",
      " [340412.65957447 110631.05027885  -6649.47427082]\n"
     ]
    }
   ],
   "source": [
    "print('Theta computed from the Normal Equation Method \\n {}'.format(theta))"
   ]
  },
  {
   "cell_type": "code",
   "execution_count": 107,
   "metadata": {},
   "outputs": [
    {
     "name": "stdout",
     "output_type": "stream",
     "text": [
      "Predicted price for a 1650 sq-ft, 3 br house (using normal equation) is : \n",
      " 293081 $\n"
     ]
    }
   ],
   "source": [
    "test_example = np.array((1, 1650, 3)).astype('float64')\n",
    "test_example[1:] = (test_example[1:].reshape(1,2)-mu.reshape(1,2))/sigma.reshape(1,2)\n",
    "price = np.dot(test_example, theta)\n",
    "\n",
    "print ('Predicted price for a 1650 sq-ft, 3 br house (using normal equation) is : \\n {} $'.format(int(price)))"
   ]
  }
 ],
 "metadata": {
  "kernelspec": {
   "display_name": "Python 3",
   "language": "python",
   "name": "python3"
  },
  "language_info": {
   "codemirror_mode": {
    "name": "ipython",
    "version": 3
   },
   "file_extension": ".py",
   "mimetype": "text/x-python",
   "name": "python",
   "nbconvert_exporter": "python",
   "pygments_lexer": "ipython3",
   "version": "3.7.7"
  }
 },
 "nbformat": 4,
 "nbformat_minor": 2
}
