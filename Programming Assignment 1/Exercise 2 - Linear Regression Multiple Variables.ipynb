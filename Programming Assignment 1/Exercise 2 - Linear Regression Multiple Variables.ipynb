{
 "cells": [
  {
   "cell_type": "markdown",
   "metadata": {},
   "source": [
    "The following script consists of a Python version of Andrew Ng's Stanford Course 'Machine Learning' taught on the Coursera Platform\n",
    "\n",
    "**Note: All exercise data and structure are credited to Stanford University** \n",
    "\n",
    "**Caveat:** Contrary to the modularity presented in Octave scripts and as I'm using Jupyter Notebooks for educational purposes we will implement the functions on the same notebook where we will call them"
   ]
  },
  {
   "cell_type": "code",
   "execution_count": 1,
   "metadata": {},
   "outputs": [],
   "source": [
    "# Import numpy libraries to deal with matrixes and vectors\n",
    "import numpy as np\n",
    "# Import pandas do read data files\n",
    "import pandas as pd\n",
    "# Import matplotlib to plot data\n",
    "import matplotlib.pyplot as plt\n",
    "\n",
    "#Matplotlib notebook property\n",
    "%matplotlib inline"
   ]
  },
  {
   "cell_type": "markdown",
   "metadata": {},
   "source": [
    "First exercise consists of developing a multiple variable linear regression. \n",
    "<br>\n",
    "<br>\n",
    "When we deal with multiple variables it is normally necessary (in most algorithms that rely on distances) to normalize features between a specific range. In gradient descent, normalizing features enables the algorithm to converge much faster."
   ]
  },
  {
   "cell_type": "markdown",
   "metadata": {},
   "source": [
    "# Exercise 1 - Normalizing Features"
   ]
  },
  {
   "cell_type": "markdown",
   "metadata": {},
   "source": [
    "The data we are going to analyze is part of a real estate company. In this example, we are trying to predict the value of the house based on two variables:\n",
    "- The size of the house (in meters squares);\n",
    "- The number of bedrooms;\n",
    "<br>\n",
    "<br>\n",
    "Can we develop an algorithm capable of, given the size and bedroom number, predict the value of the estate with accuracy?"
   ]
  },
  {
   "cell_type": "code",
   "execution_count": 2,
   "metadata": {},
   "outputs": [
    {
     "name": "stdout",
     "output_type": "stream",
     "text": [
      "# of training examples: 47 \n",
      "\n",
      "Printing some examples of training table: \n",
      "\n",
      "X = [1600    3] , y = 329900\n",
      "X = [2400    3] , y = 369000\n",
      "X = [1416    2] , y = 232000\n",
      "X = [3000    4] , y = 539900\n",
      "X = [1985    4] , y = 299900\n",
      "X = [1534    3] , y = 314900\n",
      "X = [1427    3] , y = 198999\n",
      "X = [1380    3] , y = 212000\n",
      "X = [1494    3] , y = 242500\n"
     ]
    }
   ],
   "source": [
    "# Read Text File and create X and y variables \n",
    "ex2_file = pd.read_csv('ex1data2.txt', header=None) \n",
    "\n",
    "X = np.array(ex2_file.iloc[:,0:2])\n",
    "\n",
    "y = np.array(ex2_file.iloc[:,2])\n",
    "\n",
    "print('# of training examples: {} \\n'.format(len(X)))\n",
    "\n",
    "print('Printing some examples of training table: \\n')\n",
    "\n",
    "for i in np.arange(1,10):\n",
    "    print('X = {} , y = {}'.format(X[i], y[i]))"
   ]
  },
  {
   "cell_type": "code",
   "execution_count": 3,
   "metadata": {},
   "outputs": [],
   "source": [
    "# Normalize Features - Applying standardization of the variables\n",
    "\n",
    "def featureNormalize(\n",
    "    features: np.array\n",
    ") -> [np.array, np.array, np.array]:\n",
    "    \"\"\"\n",
    "    \n",
    "    Returns the standardized version of matrix \"features\" \n",
    "    The formula applied is z = ((xi-mean)/standard deviation)\n",
    "    where i is each observation for nth column\n",
    "    \n",
    "    Args:\n",
    "        features (np.array): The original nth column matrix to normalize.\n",
    "        \n",
    "    Returns:\n",
    "        X_norm (np.array): Matrix of normalized values.\n",
    "        mean (np.array): Mean of each nth column.\n",
    "        sigma (np.array): Standard deviation of each nth column.\n",
    "        \n",
    "    \"\"\"\n",
    "    \n",
    "    mean = features.mean(axis=0)\n",
    "    # To get the same result as Octave std function you have to set degrees of freedom to 1 with the ddof parameter\n",
    "    sigma = features.std(axis=0,ddof=1)\n",
    "    X_norm = ((features-mean)/sigma)\n",
    "    return X_norm, mean, sigma"
   ]
  },
  {
   "cell_type": "markdown",
   "metadata": {},
   "source": [
    "We are going to apply a standardization of the variables, based on the following formula for each variable:"
   ]
  },
  {
   "cell_type": "markdown",
   "metadata": {},
   "source": [
    "<img src='assets/Standardization.png'>"
   ]
  },
  {
   "cell_type": "markdown",
   "metadata": {},
   "source": [
    "**The standardization of variable z is done by applying the formula above, where:**\n",
    "<br>\n",
    "- Xi is equal to the ith observation\n",
    "<br>\n",
    "- μ is equal to the mean of the variable \n",
    "<br>\n",
    "- σ is equal to the standard deviation of the variable"
   ]
  },
  {
   "cell_type": "code",
   "execution_count": 4,
   "metadata": {},
   "outputs": [],
   "source": [
    "# Retrieve normalized matrix, mu and sigma\n",
    "X, mu, sigma = featureNormalize(X)"
   ]
  },
  {
   "cell_type": "code",
   "execution_count": 5,
   "metadata": {},
   "outputs": [],
   "source": [
    "# Add column of ones to the array \n",
    "ones_vector = np.ones((len(X),1))\n",
    "# Creating X_ext object to avoid overwriting original X object\n",
    "X_ext = np.hstack((ones_vector,X))"
   ]
  },
  {
   "cell_type": "markdown",
   "metadata": {},
   "source": [
    "Just like we have done with a single variable, we are going to do gradient descent for multiple variables.\n",
    "<br>\n",
    "The difference for in this example is that we are going to have a new Θ to optimize (Θ2) - rather than just Θ0 and Θ1.\n",
    "\n",
    "We are going to do a vectorized approach as, for larger values of m (observations) or n (number of Θ's to optimize), a vectorized approach is always preferable than a loop approach as it is computationally cheaper.\n",
    "\n",
    "Checking the formulas: "
   ]
  },
  {
   "cell_type": "markdown",
   "metadata": {},
   "source": [
    "<img src='assets/Multivariate Cost Function.JPG'>"
   ]
  },
  {
   "cell_type": "markdown",
   "metadata": {},
   "source": [
    "# Exercise 2 - Gradient Descent"
   ]
  },
  {
   "cell_type": "code",
   "execution_count": 6,
   "metadata": {},
   "outputs": [],
   "source": [
    "# Compute gradient for multiple features \n",
    "# Initialize theta, learning rates and number of iterations\n",
    "theta = np.zeros((3,1))\n",
    "alpha = 0.1;\n",
    "num_iters = 400;"
   ]
  },
  {
   "cell_type": "code",
   "execution_count": 7,
   "metadata": {},
   "outputs": [],
   "source": [
    "# Define multivariable Cost Function\n",
    "def computeCostMulti (\n",
    "    X: np.array, \n",
    "    y:np.array , \n",
    "    theta: np.array\n",
    ") -> int:\n",
    "    \"\"\"\n",
    "    \n",
    "    Returns the cost function (average squared error) \n",
    "    using matrix X*Theta and it's output Y\n",
    "    \n",
    "    Args:\n",
    "        X (np.array): The values of each observation.\n",
    "        y (np.array): The values to predict.\n",
    "        theta (np.array): The weight to give to each variable that \n",
    "        will be multiplied by X to represent the hypothesis.\n",
    "        \n",
    "    Returns:\n",
    "        J (int): The sum of the errors - overall cost function for \n",
    "        the presented thetas.\n",
    "        \n",
    "    \"\"\" \n",
    "    m = len(y) \n",
    "    # Compute hypothesis\n",
    "    hypothesis = np.dot(X,theta)\n",
    "    # Compute cost function, using average squared error\n",
    "    J = (sum((hypothesis-y.reshape(len(y),1))**2))/(2*m)\n",
    "    return J\n",
    "\n",
    "# Define multivariate Gradient Descent\n",
    "def gradientDescentMulti(\n",
    "    X: np.array,\n",
    "    y: np.array,\n",
    "    theta: np.array,\n",
    "    alpha: float,\n",
    "    num_iters: int\n",
    ") -> [np.array, np.array]:\n",
    "    \"\"\"\n",
    "    \n",
    "    Computes new theta based on iterations \n",
    "    and history of cost functions for each \n",
    "    iteration of gradient descent.\n",
    "    \n",
    "    Args:\n",
    "        X (np.array): The values of each observation.\n",
    "        y (np.array): The values to predict.\n",
    "        theta (np.array): The initial weight to give to each variable that \n",
    "        will be multiplied by X to represent the hypothesis.\n",
    "        alpha(float): The learning rate of gradient descent.\n",
    "        num_iters(int): The number of iterations.\n",
    "        \n",
    "    Returns:\n",
    "        Theta (np.array): The array of optimized thetas returned by \n",
    "        the final iteration of gradiend descent.\n",
    "        J_history (np.array): The history of the error function (J) \n",
    "        during every iteration of gradient descent.\n",
    "        \n",
    "    \"\"\" \n",
    "    \n",
    "    m = len(y)\n",
    "    # Create vector where we will input each result of the cost function\n",
    "    J_history = np.zeros((num_iters, 1))\n",
    "    # loop through each iteration\n",
    "    for i in np.arange(0,num_iters):\n",
    "        # Compute hypothesis\n",
    "        hypothesis = np.dot(X,theta)\n",
    "        # Update theta by computing gradient\n",
    "        theta -= alpha * (1/m) * np.dot(np.transpose(X),(hypothesis-y.reshape(len(y),1)))\n",
    "        # Assign cost function value with new theta to the J_history ith position\n",
    "        J_history[i] = computeCostMulti(X,y,theta)\n",
    "    return theta, J_history "
   ]
  },
  {
   "cell_type": "code",
   "execution_count": 8,
   "metadata": {},
   "outputs": [],
   "source": [
    "# Return value of theta on the last iteration and an array with the history of the cost function\n",
    "theta, J_history = gradientDescentMulti(X_ext,y,theta,alpha,num_iters)"
   ]
  },
  {
   "cell_type": "markdown",
   "metadata": {},
   "source": [
    "By plotting the convergence of the Cost Function we can notice several things:\n",
    "<br>\n",
    "    -  The cost function stabilized after ~25 iterations;\n",
    "    -  The cost function changes by a higher magnitude on the first iterations. After the 25th iteration, the change in the Θ parameters only bring decimal changes to the cost function J;\n",
    "<br>\n",
    "We will use the code below to plot the J_history object - Cost Function at each iteration:"
   ]
  },
  {
   "cell_type": "code",
   "execution_count": 9,
   "metadata": {},
   "outputs": [
    {
     "data": {
      "text/plain": [
       "Text(0, 0.5, 'Cost Function (J)')"
      ]
     },
     "execution_count": 9,
     "metadata": {},
     "output_type": "execute_result"
    },
    {
     "data": {
      "image/png": "[encoded data removed]",
      "text/plain": [
       "<Figure size 432x288 with 1 Axes>"
      ]
     },
     "metadata": {
      "needs_background": "light"
     },
     "output_type": "display_data"
    }
   ],
   "source": [
    "# Plot the convergence graph - notice how after 25 iterations the curve starts to become flat\n",
    "plt.plot(np.arange(0,num_iters),J_history,c='blue')\n",
    "plt.xlabel('Number of Iterations')\n",
    "plt.ylabel('Cost Function (J)')"
   ]
  },
  {
   "cell_type": "markdown",
   "metadata": {},
   "source": [
    "**You can make the cost function coverge slower by using a lower learning rate.**"
   ]
  },
  {
   "cell_type": "markdown",
   "metadata": {},
   "source": [
    "**What were the optimal thetas created?**"
   ]
  },
  {
   "cell_type": "code",
   "execution_count": 10,
   "metadata": {},
   "outputs": [
    {
     "name": "stdout",
     "output_type": "stream",
     "text": [
      "Theta computed from gradient descent \n",
      " [[340412.65957447]\n",
      " [110631.04895815]\n",
      " [ -6649.47295013]]\n"
     ]
    }
   ],
   "source": [
    "print('Theta computed from gradient descent \\n {}'.format(theta))"
   ]
  },
  {
   "cell_type": "markdown",
   "metadata": {},
   "source": [
    "We can now use the new thetas to predict new examples of data coming in. For example, imagine we have a new house that is 1650 square feet and has three bedrooms. Given this, what is the predicted price for this house?  "
   ]
  },
  {
   "cell_type": "code",
   "execution_count": 11,
   "metadata": {},
   "outputs": [],
   "source": [
    "test_example = np.array((1, 1650, 3)).astype('float64')\n",
    "test_example[1:] = (test_example[1:].reshape(1,2)-mu.reshape(1,2))/sigma.reshape(1,2)\n",
    "price = np.dot(test_example, theta)"
   ]
  },
  {
   "cell_type": "code",
   "execution_count": 12,
   "metadata": {},
   "outputs": [
    {
     "name": "stdout",
     "output_type": "stream",
     "text": [
      "Predicted price for a 1650 sq-ft, 3 br house (using gradient descent) is : \n",
      " 293081 $\n"
     ]
    }
   ],
   "source": [
    "print ('Predicted price for a 1650 sq-ft, 3 br house (using gradient descent) is : \\n {} $'.format(int(price)))"
   ]
  },
  {
   "cell_type": "markdown",
   "metadata": {},
   "source": [
    "For this linear problem we have used gradient descent to minimize the squared error function and thus optimize our thetas.\n",
    "<br>\n",
    "<br> \n",
    "But, there is another method that can be used when finding the minimum error for multiple linear regression (also, this method ends up being computationally cheaper as it solves the problem by using vectorization, avoiding the gradient descent iteration).\n",
    "This method is called Normal Equations or OLS - Ordinary least squares.\n",
    "<br>\n",
    "<br>\n",
    "**The formula to calculate the optimized array of thetas is as follows:**"
   ]
  },
  {
   "cell_type": "markdown",
   "metadata": {},
   "source": [
    "<img src='assets/NormalEquations.JPG'>"
   ]
  },
  {
   "cell_type": "markdown",
   "metadata": {},
   "source": [
    "# Exercise 3 - Normal Equations"
   ]
  },
  {
   "cell_type": "code",
   "execution_count": 19,
   "metadata": {},
   "outputs": [],
   "source": [
    "# Load the data Again\n",
    "ex2_file = pd.read_csv('ex1data2.txt', header=None) \n",
    "X = np.array(ex2_file.iloc[:,0:2])\n",
    "y = np.array(ex2_file.iloc[:,2])\n",
    "\n",
    "m = y.size\n",
    "\n",
    "X, mu, sigma = featureNormalize(X)\n",
    "\n",
    "# Add column of ones to the array \n",
    "X = np.concatenate([np.ones((m, 1)), X], axis=1)"
   ]
  },
  {
   "cell_type": "code",
   "execution_count": 20,
   "metadata": {},
   "outputs": [],
   "source": [
    "def normalEqn(\n",
    "    X: np.array,\n",
    "    y: np.array\n",
    ") -> np.array:\n",
    "    \"\"\"\n",
    "    \n",
    "    Computes the optimal thetas using the OLS\n",
    "    method.\n",
    "    \n",
    "    Args:\n",
    "        X (np.array): The values of each observation.\n",
    "        y (np.array): The values to predict.\n",
    "        \n",
    "    Returns:\n",
    "        Theta (np.array): The array of optimized thetas returned by \n",
    "        the ordinary least square method (Normal equations).\n",
    "        \n",
    "    \"\"\" \n",
    "    # Placeholder for thetas\n",
    "    theta = np.zeros(X.shape[1])\n",
    "    # OLS method calculation\n",
    "    theta = np.dot(np.dot(np.linalg.inv(np.dot(X.T,X)),X.T),y)\n",
    "    \n",
    "    return theta"
   ]
  },
  {
   "cell_type": "code",
   "execution_count": 21,
   "metadata": {},
   "outputs": [],
   "source": [
    "theta = normalEqn(X,y)"
   ]
  },
  {
   "cell_type": "code",
   "execution_count": 22,
   "metadata": {},
   "outputs": [
    {
     "name": "stdout",
     "output_type": "stream",
     "text": [
      "Theta computed from the Normal Equation Method \n",
      " [340412.65957447 110631.05027885  -6649.47427082]\n"
     ]
    }
   ],
   "source": [
    "print('Theta computed from the Normal Equation Method \\n {}'.format(theta))"
   ]
  },
  {
   "cell_type": "markdown",
   "metadata": {},
   "source": [
    "Notice how the thetas calculated by OLS is approximately the same as the ones returned by gradient descent. \n",
    "<br>\n",
    "And we did it with fewer lines of code! \n",
    "<br>\n",
    "**The caveat of this method is that it only works for linear equations - a limitation in terms of most of the functions that we want to learn - not many problems in the real world behave in a linear way.**"
   ]
  },
  {
   "cell_type": "markdown",
   "metadata": {},
   "source": [
    "Do we have the same prediction for the new house? "
   ]
  },
  {
   "cell_type": "code",
   "execution_count": 23,
   "metadata": {},
   "outputs": [
    {
     "name": "stdout",
     "output_type": "stream",
     "text": [
      "Predicted price for a 1650 sq-ft, 3 br house (using normal equation) is : \n",
      " 293081 $\n"
     ]
    }
   ],
   "source": [
    "test_example = np.array((1, 1650, 3)).astype('float64')\n",
    "test_example[1:] = (test_example[1:].reshape(1,2)-mu.reshape(1,2))/sigma.reshape(1,2)\n",
    "price = np.dot(test_example, theta)\n",
    "\n",
    "print ('Predicted price for a 1650 sq-ft, 3 br house (using normal equation) is : \\n {} $'.format(int(price)))"
   ]
  }
 ],
 "metadata": {
  "kernelspec": {
   "display_name": "Python 3",
   "language": "python",
   "name": "python3"
  },
  "language_info": {
   "codemirror_mode": {
    "name": "ipython",
    "version": 3
   },
   "file_extension": ".py",
   "mimetype": "text/x-python",
   "name": "python",
   "nbconvert_exporter": "python",
   "pygments_lexer": "ipython3",
   "version": "3.7.3"
  }
 },
 "nbformat": 4,
 "nbformat_minor": 2
}
