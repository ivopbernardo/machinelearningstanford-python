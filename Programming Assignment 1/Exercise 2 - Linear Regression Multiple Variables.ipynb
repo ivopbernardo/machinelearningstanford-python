{
 "cells": [
  {
   "cell_type": "markdown",
   "metadata": {},
   "source": [
    "The following script consists of a Python version of Andrew Ng Stanford Course 'Machine Learning' taught on the Coursera Platform\n",
    "\n",
    "**Note: All exercise data and structure are credited to Stanford University** \n",
    "\n",
    "**Caveat:** Contrary to the modularity presented in Octave scripts and as I'm using Jupyter Notebooks for educational purposes we will implement the functions on the same notebook where we will call them"
   ]
  },
  {
   "cell_type": "code",
   "execution_count": 43,
   "metadata": {},
   "outputs": [],
   "source": [
    "#Import numpy libraries to deal with matrixes and vectors\n",
    "import numpy as np\n",
    "#Import pandas do read data files\n",
    "import pandas as pd\n",
    "#Import matplotlib to plot data\n",
    "import matplotlib.pyplot as plt\n",
    "\n",
    "#Matplotlib notebook property\n",
    "%matplotlib inline"
   ]
  },
  {
   "cell_type": "markdown",
   "metadata": {},
   "source": [
    "First exercise consists of developing a multiple variable linear regression. \n",
    "<br>\n",
    "When we deal with multiple variables it is normally necessary (in most algorigthms) to normalize features between a specific range. \n",
    "<br>\n",
    "By doing this, we avoid that the features with a higher range of values (1-1000, as an example) have higher influence on the gradient descent"
   ]
  },
  {
   "cell_type": "markdown",
   "metadata": {},
   "source": [
    "# Exercise 1 - Normalizing Features"
   ]
  },
  {
   "cell_type": "code",
   "execution_count": 44,
   "metadata": {},
   "outputs": [
    {
     "name": "stdout",
     "output_type": "stream",
     "text": [
      "# of training examples: 47 \n",
      "\n",
      "Printing some examples of training table: \n",
      "\n",
      "X = [1600    3] , y = 329900\n",
      "X = [2400    3] , y = 369000\n",
      "X = [1416    2] , y = 232000\n",
      "X = [3000    4] , y = 539900\n",
      "X = [1985    4] , y = 299900\n",
      "X = [1534    3] , y = 314900\n",
      "X = [1427    3] , y = 198999\n",
      "X = [1380    3] , y = 212000\n",
      "X = [1494    3] , y = 242500\n"
     ]
    }
   ],
   "source": [
    "#Read Text File and create X and y variables - Keeping them as Pandas iSeries would be almost the same but it is more \"pure\" in terms of comparison with Octave to have array objects\n",
    "ex2_file = pd.read_csv('ex1data2.txt', header=None) \n",
    "X = np.array(ex2_file.iloc[:,0:2])\n",
    "y = np.array(ex2_file.iloc[:,2])\n",
    "\n",
    "\n",
    "print('# of training examples: {} \\n'.format(len(X)))\n",
    "\n",
    "print('Printing some examples of training table: \\n')\n",
    "\n",
    "for i in np.arange(1,10):\n",
    "    print('X = {} , y = {}'.format(X[i], y[i]))"
   ]
  },
  {
   "cell_type": "code",
   "execution_count": 45,
   "metadata": {},
   "outputs": [],
   "source": [
    "#Normalize Features - Applying standardization of the variables\n",
    "def featureNormalize(features):\n",
    "    mean = X.mean(axis=0)\n",
    "    #To get the same result as Octave std function you have to set degrees of freedom to 1 with the ddof parameter\n",
    "    sigma = X.std(axis=0,ddof=1)\n",
    "    X_norm = ((X-mean)/sigma)\n",
    "    return X_norm, mean, sigma"
   ]
  },
  {
   "cell_type": "markdown",
   "metadata": {},
   "source": [
    "In this case we are going to apply a standardization of the variables, based on the following formula:"
   ]
  },
  {
   "cell_type": "markdown",
   "metadata": {},
   "source": [
    "<img src='assets/Standardization.png'>"
   ]
  },
  {
   "cell_type": "markdown",
   "metadata": {},
   "source": [
    "**Where Xi is equal to the ith observation,\n",
    "<br>\n",
    "μ is equal to the mean of the variable and \n",
    "<br>\n",
    "σ is equal to the standard deviation of the variable**"
   ]
  },
  {
   "cell_type": "code",
   "execution_count": 46,
   "metadata": {},
   "outputs": [],
   "source": [
    "X, mu, sigma = featureNormalize(X)"
   ]
  },
  {
   "cell_type": "code",
   "execution_count": 47,
   "metadata": {},
   "outputs": [],
   "source": [
    "#Add column of ones to the array \n",
    "ones_vector = np.ones((len(X),1))\n",
    "#Creating X_ext object to avoid overwriting original X object\n",
    "X_ext = np.hstack((ones_vector,X))"
   ]
  },
  {
   "cell_type": "markdown",
   "metadata": {},
   "source": [
    "Just like we have done with a single variable, we are going to do gradient descent for multiple variables.\n",
    "<br>\n",
    "The difference in this example is that we are going to have a new Θ to optimize (Θ2);\n",
    "\n",
    "We are going to do a vectorized approach as, for larger values of m (observations) or n (number of Θ's to optimize), a vectorized approach is always preferable as it is computationally cheaper.\n",
    "\n",
    "Checking the formulas: "
   ]
  },
  {
   "cell_type": "markdown",
   "metadata": {},
   "source": [
    "<img src='assets/Multivariate Cost Function.JPG'>"
   ]
  },
  {
   "cell_type": "markdown",
   "metadata": {},
   "source": [
    "# Exercise 2 - Gradient Descent"
   ]
  },
  {
   "cell_type": "code",
   "execution_count": 48,
   "metadata": {},
   "outputs": [],
   "source": [
    "# Compute gradient for multiple features \n",
    "\n",
    "#Initialize theta, learning rates and number of iterations\n",
    "theta = np.zeros((3,1))\n",
    "alpha = 0.01;\n",
    "num_iters = 400;"
   ]
  },
  {
   "cell_type": "code",
   "execution_count": 49,
   "metadata": {},
   "outputs": [],
   "source": [
    "#Define multivariable Cost Function\n",
    "def computeCostMulti (X: np.array, y:np.array , theta: np.array) -> int:\n",
    "    m = len(y) \n",
    "    #Compute hypothesis\n",
    "    hypothesis = np.dot(X,theta)\n",
    "    #Compute cost function, using average squared error due to continuous variable\n",
    "    J = (sum((hypothesis-y.reshape(len(y),1))**2))/(2*m)\n",
    "    return J\n",
    "\n",
    "#Define multivariate Gradient Descent\n",
    "def gradientDescentMulti(X: np.array,y: np.array,theta: np.array,alpha: float,num_iters: int) -> [np.array, np.array]:\n",
    "    m = len(y)\n",
    "    #Create vector where we will input each result of the cost function\n",
    "    J_history = np.zeros((num_iters, 1))\n",
    "    #loop through each iteration\n",
    "    for i in np.arange(0,num_iters):\n",
    "        #Compute hypothesis\n",
    "        hypothesis = np.dot(X,theta)\n",
    "        #Update theta by computing gradient\n",
    "        theta -= alpha * (1/m) * np.dot(np.transpose(X),(hypothesis-y.reshape(len(y),1)))\n",
    "        #Assign cost function value with new theta to the J_history ith position\n",
    "        J_history[i] = computeCostMulti(X,y,theta)\n",
    "    return theta, J_history "
   ]
  },
  {
   "cell_type": "code",
   "execution_count": 50,
   "metadata": {},
   "outputs": [],
   "source": [
    "#Return value of theta on the last iteration and an array with the history of the cost function\n",
    "theta, J_history = gradientDescentMulti(X_ext,y,theta,alpha,num_iters)"
   ]
  },
  {
   "cell_type": "markdown",
   "metadata": {},
   "source": [
    "By plotting the convergence of the Cost Function we can notice several things:\n",
    "<br>\n",
    "    -  The cost function stabilized after ~300 iterations;\n",
    "    -  The cost function changes by a higher magnitude on the first iterations. After reaching more than 250 iteration, the change in the Θ parameters only bring decimal changes to the cost function;\n",
    "<br>\n",
    "We will use the code below to plot the J_history object - Cost Function at each iteration:"
   ]
  },
  {
   "cell_type": "code",
   "execution_count": 51,
   "metadata": {},
   "outputs": [
    {
     "data": {
      "text/plain": [
       "Text(0,0.5,'Cost Function (J)')"
      ]
     },
     "execution_count": 51,
     "metadata": {},
     "output_type": "execute_result"
    },
    {
     "data": {
      "image/png": "[encoded data removed]",
      "text/plain": [
       "<matplotlib.figure.Figure at 0x14de2f644e0>"
      ]
     },
     "metadata": {},
     "output_type": "display_data"
    }
   ],
   "source": [
    "#Plot the convergence graph - notice how after 300 iterations the curve starts to become flat\n",
    "plt.plot(np.arange(0,num_iters),J_history,c='blue')\n",
    "plt.xlabel('Number of Iterations')\n",
    "plt.ylabel('Cost Function (J)')"
   ]
  },
  {
   "cell_type": "code",
   "execution_count": 53,
   "metadata": {},
   "outputs": [
    {
     "name": "stdout",
     "output_type": "stream",
     "text": [
      "Theta computed from gradient descent \n",
      " [[334302.06399328]\n",
      " [100087.11600585]\n",
      " [  3673.54845093]]\n"
     ]
    }
   ],
   "source": [
    "print('Theta computed from gradient descent \\n {}'.format(theta))"
   ]
  },
  {
   "cell_type": "code",
   "execution_count": 56,
   "metadata": {},
   "outputs": [],
   "source": [
    "test_example = np.array((1, 1650, 3)).astype('float64')\n",
    "test_example[1:] = (test_example[1:].reshape(1,2)-mu.reshape(1,2))/sigma.reshape(1,2)\n",
    "price = np.dot(test_example, theta)"
   ]
  },
  {
   "cell_type": "code",
   "execution_count": 57,
   "metadata": {},
   "outputs": [
    {
     "name": "stdout",
     "output_type": "stream",
     "text": [
      "Predicted price for a 1650 sq-ft, 3 br house (using gradient descent) is : \n",
      " 289314\n"
     ]
    }
   ],
   "source": [
    "print ('Predicted price for a 1650 sq-ft, 3 br house (using gradient descent) is : \\n {}'.format(int(price)))"
   ]
  },
  {
   "cell_type": "markdown",
   "metadata": {},
   "source": [
    "Now, for this linear problem we have used gradient descent to minimize the squared error function. \n",
    "<br> \n",
    "But, there is another method that can be used when finding the minimum error for multiple linear regression (also, this method ends up being less computationally expensive as it solves the problem by recurring to vectorization, avoiding the gradient descent iteration).\n",
    "That method is called Normal Equations or OLS - Ordinary least squares.\n",
    "\n",
    "The vectorized formula is as follows:"
   ]
  },
  {
   "cell_type": "markdown",
   "metadata": {},
   "source": [
    "<img src='assets/NormalEquations.JPG'>"
   ]
  },
  {
   "cell_type": "markdown",
   "metadata": {},
   "source": [
    "# Exercise 3 - Normal Equations"
   ]
  },
  {
   "cell_type": "code",
   "execution_count": 59,
   "metadata": {},
   "outputs": [],
   "source": [
    "#Load the data Again\n",
    "#Read Text File and create X and y variables - Keeping them as Pandas iSeries would be almost the same but it is more \"pure\" in terms of comparison with Octave to have array objects\n",
    "ex2_file = pd.read_csv('ex1data2.txt', header=None) \n",
    "X = np.array(ex2_file.iloc[:,0:2])\n",
    "y = np.array(ex2_file.iloc[:,2])\n",
    "\n",
    "#Add column of ones to the array \n",
    "ones_vector = np.ones((len(X),1))\n",
    "X_ext = np.hstack((ones_vector,X))"
   ]
  },
  {
   "cell_type": "code",
   "execution_count": 60,
   "metadata": {},
   "outputs": [],
   "source": [
    "def normalEqn(X: np.array,y: np.array) -> np.array:\n",
    "    #Calculate inverse of Matrix\n",
    "    inverse = np.linalg.inv(np.dot(X.T,X))\n",
    "    theta = np.dot(inverse, X.T)\n",
    "    theta = np.dot(theta, y)\n",
    "    return theta"
   ]
  },
  {
   "cell_type": "code",
   "execution_count": 61,
   "metadata": {},
   "outputs": [],
   "source": [
    "theta = normalEqn(X_ext,y)"
   ]
  },
  {
   "cell_type": "code",
   "execution_count": 62,
   "metadata": {},
   "outputs": [
    {
     "name": "stdout",
     "output_type": "stream",
     "text": [
      "Theta computed from gradient descent \n",
      " [89597.9095428    139.21067402 -8738.01911233]\n"
     ]
    }
   ],
   "source": [
    "print('Theta computed from gradient descent \\n {}'.format(theta))"
   ]
  },
  {
   "cell_type": "code",
   "execution_count": 63,
   "metadata": {},
   "outputs": [
    {
     "name": "stdout",
     "output_type": "stream",
     "text": [
      "Predicted price for a 1650 sq-ft, 3 br house (using normal equation) is : \n",
      " 91490\n"
     ]
    }
   ],
   "source": [
    "test_example = np.array((1, 1650, 3)).astype('float64')\n",
    "test_example[1:] = (test_example[1:].reshape(1,2)-mu.reshape(1,2))/sigma.reshape(1,2)\n",
    "price = np.dot(test_example, theta)\n",
    "\n",
    "print ('Predicted price for a 1650 sq-ft, 3 br house (using normal equation) is : \\n {}'.format(int(price)))"
   ]
  }
 ],
 "metadata": {
  "kernelspec": {
   "display_name": "Python 3",
   "language": "python",
   "name": "python3"
  },
  "language_info": {
   "codemirror_mode": {
    "name": "ipython",
    "version": 3
   },
   "file_extension": ".py",
   "mimetype": "text/x-python",
   "name": "python",
   "nbconvert_exporter": "python",
   "pygments_lexer": "ipython3",
   "version": "3.7.3"
  }
 },
 "nbformat": 4,
 "nbformat_minor": 2
}
