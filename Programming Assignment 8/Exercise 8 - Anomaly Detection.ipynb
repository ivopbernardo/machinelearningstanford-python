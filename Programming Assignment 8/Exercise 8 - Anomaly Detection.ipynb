{
 "cells": [
  {
   "cell_type": "markdown",
   "metadata": {},
   "source": [
    "The following script consists of a Python version of Andrew Ng Stanford Course 'Machine Learning' taught on the Coursera Platform\n",
    "Note: All exercise data and structure are credited to Stanford University \n",
    "\n",
    "**Caveat:** Contrary to the modularity presented in Octave scripts and as I'm using Jupyter Notebooks for educational purposes we will implement the functions on the same notebook where we will call them"
   ]
  },
  {
   "cell_type": "markdown",
   "metadata": {},
   "source": [
    "# Exercise 1 - Load and Estimate Dataset Statistics"
   ]
  },
  {
   "cell_type": "code",
   "execution_count": 2,
   "metadata": {},
   "outputs": [],
   "source": [
    "# Import numpy libraries to deal with matrixes and vectors\n",
    "import numpy as np\n",
    "# Import pandas do read data files\n",
    "import pandas as pd\n",
    "# Import matplotlib to plot data\n",
    "import matplotlib.pyplot as plt\n",
    "\n",
    "# Import math \n",
    "import math \n",
    "\n",
    "# Import scipy optimization function\n",
    "from scipy import optimize, io\n",
    "from scipy.ndimage import rotate\n",
    "\n",
    "# Matplotlib notebook property\n",
    "%matplotlib inline"
   ]
  },
  {
   "cell_type": "markdown",
   "metadata": {},
   "source": [
    "Anomaly detection is widely used across several machine problems to estimate the probability of some example not fitting some kind of \"distribution\".\n",
    "<br> \n",
    "<br>\n",
    "In our example we are going to evaluate the possibility of some examples not belonging to a gaussian distribution and therefore considering anomalous. This is an example of an unsupervised learning technique."
   ]
  },
  {
   "cell_type": "code",
   "execution_count": 3,
   "metadata": {},
   "outputs": [],
   "source": [
    "# Read the dataset \n",
    "X = io.loadmat('ex8data1.mat')['X']"
   ]
  },
  {
   "cell_type": "markdown",
   "metadata": {},
   "source": [
    "Our data consists of throughput and latency data from several servers. We want to estimate which servers deviate more the norm, and we know that the data is approximately normally distributed."
   ]
  },
  {
   "cell_type": "code",
   "execution_count": 8,
   "metadata": {},
   "outputs": [],
   "source": [
    "def plotData(\n",
    "    X: np.array\n",
    ") -> None:\n",
    "    '''\n",
    "    Computes scatter plot of original data\n",
    "    with X1 and X2 columns in each axis.\n",
    "    \n",
    "    Args:\n",
    "        X(np.array): Array of original features.\n",
    "    Returns:\n",
    "        None        \n",
    "    '''\n",
    "    plt.scatter(X[:,0], X[:,1], marker='x', facecolors='blue')"
   ]
  },
  {
   "cell_type": "code",
   "execution_count": 10,
   "metadata": {},
   "outputs": [
    {
     "data": {
      "image/png": "[encoded data removed]",
      "text/plain": [
       "<Figure size 432x288 with 1 Axes>"
      ]
     },
     "metadata": {
      "needs_background": "light"
     },
     "output_type": "display_data"
    }
   ],
   "source": [
    "plotData(X)"
   ]
  },
  {
   "cell_type": "markdown",
   "metadata": {},
   "source": [
    "A huge cloud of points are concentrated in the center of our graph. By looking at it we can see that there are some examples that don't seem the fit the distribution of our data."
   ]
  },
  {
   "cell_type": "markdown",
   "metadata": {},
   "source": [
    "We can measure if the points belong to the distribution by looking at the probability of each example belonging to the distribution given a mean and a standard deviation:"
   ]
  },
  {
   "cell_type": "markdown",
   "metadata": {},
   "source": [
    "<img src=\"assets/gaussianprob.png\">"
   ]
  },
  {
   "cell_type": "markdown",
   "metadata": {},
   "source": [
    "First, let's compute the statistics for each variable on our dataset:"
   ]
  },
  {
   "cell_type": "code",
   "execution_count": 27,
   "metadata": {},
   "outputs": [],
   "source": [
    "def estimateGaussian(\n",
    "    X: np.array\n",
    ") -> np.array:\n",
    "    '''\n",
    "    Computes mean and standard deviation\n",
    "    for each feature of the X array.\n",
    "    \n",
    "    Args:\n",
    "        X(np.array): Original data.\n",
    "        \n",
    "    Returns:\n",
    "        mean(np.array): Array of means of each ith feature.\n",
    "        sigma(np.array): Array of standard deviation of \n",
    "        each ith feature.\n",
    "    '''\n",
    "    \n",
    "    m, n = X.shape\n",
    "    \n",
    "    mean = np.zeros(n)\n",
    "    sigma = np.zeros(n)\n",
    "    \n",
    "    for feature in range(n):\n",
    "        \n",
    "        mean[feature] = X[:,feature].sum()/m\n",
    "        sigma[feature] = (X[:,feature]-mean[feature]).sum()**2/m\n",
    "        \n",
    "    return mean, sigma"
   ]
  },
  {
   "cell_type": "code",
   "execution_count": 29,
   "metadata": {},
   "outputs": [],
   "source": [
    "mu, sigma = estimateGaussian(X)"
   ]
  },
  {
   "cell_type": "code",
   "execution_count": null,
   "metadata": {},
   "outputs": [],
   "source": []
  },
  {
   "cell_type": "code",
   "execution_count": null,
   "metadata": {},
   "outputs": [],
   "source": []
  },
  {
   "cell_type": "code",
   "execution_count": null,
   "metadata": {},
   "outputs": [],
   "source": []
  },
  {
   "cell_type": "code",
   "execution_count": null,
   "metadata": {},
   "outputs": [],
   "source": []
  },
  {
   "cell_type": "code",
   "execution_count": null,
   "metadata": {},
   "outputs": [],
   "source": []
  },
  {
   "cell_type": "code",
   "execution_count": null,
   "metadata": {},
   "outputs": [],
   "source": []
  }
 ],
 "metadata": {
  "kernelspec": {
   "display_name": "machinelearningclass",
   "language": "python",
   "name": "machinelearningclass"
  },
  "language_info": {
   "codemirror_mode": {
    "name": "ipython",
    "version": 3
   },
   "file_extension": ".py",
   "mimetype": "text/x-python",
   "name": "python",
   "nbconvert_exporter": "python",
   "pygments_lexer": "ipython3",
   "version": "3.7.3"
  }
 },
 "nbformat": 4,
 "nbformat_minor": 2
}
