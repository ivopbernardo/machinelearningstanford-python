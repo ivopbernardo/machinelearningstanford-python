{
 "cells": [
  {
   "cell_type": "markdown",
   "metadata": {},
   "source": [
    "The following script consists of a Python version of Andrew Ng Stanford Course 'Machine Learning' taught on the Coursera Platform\n",
    "Note: All exercise data and structure are credited to Stanford University \n",
    "\n",
    "**Caveat:** Contrary to the modularity presented in Octave scripts and as I'm using Jupyter Notebooks for educational purposes we will implement the functions on the same notebook where we will call them"
   ]
  },
  {
   "cell_type": "markdown",
   "metadata": {},
   "source": [
    "# Exercise 1 - Regularized Linear Regression"
   ]
  },
  {
   "cell_type": "code",
   "execution_count": 1,
   "metadata": {},
   "outputs": [],
   "source": [
    "# Import numpy libraries to deal with matrixes and vectors\n",
    "import numpy as np\n",
    "# Import pandas do read data files\n",
    "import pandas as pd\n",
    "# Import matplotlib to plot data\n",
    "import matplotlib.pyplot as plt\n",
    "\n",
    "# Import math \n",
    "import math \n",
    "\n",
    "# Import scipy optimization function\n",
    "from scipy import optimize, io\n",
    "from scipy.ndimage import rotate\n",
    "\n",
    "# Import linalg norm function\n",
    "from numpy.linalg import norm\n",
    "\n",
    "# Matplotlib notebook property\n",
    "%matplotlib inline"
   ]
  },
  {
   "cell_type": "code",
   "execution_count": 2,
   "metadata": {},
   "outputs": [
    {
     "name": "stdout",
     "output_type": "stream",
     "text": [
      "# of training examples: 12\n"
     ]
    }
   ],
   "source": [
    "# Use scipy Io to load matrix object\n",
    "ex5_file = io.loadmat('ex5data1.mat')\n",
    "X = np.array(ex5_file['X'])\n",
    "y = np.array(ex5_file['y'])\n",
    "\n",
    "# Assign test set\n",
    "X_test = np.array(ex5_file['Xtest'])\n",
    "y_test = np.array(ex5_file['ytest'])\n",
    "\n",
    "# Assign validation set\n",
    "X_val = np.array(ex5_file['Xval'])\n",
    "y_val = np.array(ex5_file['yval'])\n",
    "\n",
    "print('# of training examples: {}'.format(len(X)))\n",
    "m = len(X)"
   ]
  },
  {
   "cell_type": "markdown",
   "metadata": {},
   "source": [
    "The table consists of raw data collected from a dam and the objective of the model is to predict the water flowing out of it using the change of water level in the reservoir. Apart from looking more deeploy into regularization, this exercise will focus on the concept of bias vs. variance."
   ]
  },
  {
   "cell_type": "code",
   "execution_count": 3,
   "metadata": {},
   "outputs": [],
   "source": [
    "def plotData(\n",
    "    X: np.array,\n",
    "    y: np.array\n",
    ") -> None:\n",
    "    '''\n",
    "    Plots 2D Scatter Plot \n",
    "    \n",
    "    Args:\n",
    "        X(np.array): Original array of features\n",
    "        y(np.array): Target values for each observation in X \n",
    "    Returns:\n",
    "        None\n",
    "    '''\n",
    "    plt.scatter(X, y, marker='X', color='red')\n",
    "    plt.xlabel('Change in water level (x)')\n",
    "    plt.ylabel('Water flowing out of the dam (y)')"
   ]
  },
  {
   "cell_type": "code",
   "execution_count": 4,
   "metadata": {},
   "outputs": [
    {
     "data": {
      "image/png": "[encoded data removed]",
      "text/plain": [
       "<Figure size 432x288 with 1 Axes>"
      ]
     },
     "metadata": {
      "needs_background": "light"
     },
     "output_type": "display_data"
    }
   ],
   "source": [
    "# Plot our data showing Change in Water level in y-axis and Water flowing out of the dam in the x-axis\n",
    "plotData(X,y)"
   ]
  },
  {
   "cell_type": "markdown",
   "metadata": {},
   "source": [
    "By looking at the 2-D plot we can see that the behavior of the y variable has a linear behavior until point 0 and after that it starts to behave in an exponential way."
   ]
  },
  {
   "cell_type": "markdown",
   "metadata": {},
   "source": [
    "Fitting a linear regression won't help because we will probably overestimate the first y-values in terms of x. Let's see what happens when we fit a regularized linear regression and check the value of the cost function and the value of it's gradient.\n",
    "<br>\n",
    "Recall that the cost function formula for the regularized linear regression is:"
   ]
  },
  {
   "cell_type": "markdown",
   "metadata": {},
   "source": [
    "<img src=\"assets/CostFunction.JPG\">"
   ]
  },
  {
   "cell_type": "markdown",
   "metadata": {},
   "source": [
    "And the gradient formula is:"
   ]
  },
  {
   "cell_type": "markdown",
   "metadata": {},
   "source": [
    "<img src=\"assets/GradientRegularizedLinearRegression.JPG\">"
   ]
  },
  {
   "cell_type": "markdown",
   "metadata": {},
   "source": [
    "<b>Recall that higher lambda values increase the penalization on model parameters, therefore, reducing overfitting."
   ]
  },
  {
   "cell_type": "code",
   "execution_count": 5,
   "metadata": {},
   "outputs": [],
   "source": [
    "# Define cost function and gradient function\n",
    "\n",
    "def linearRegCostFunction(\n",
    "    theta: np.array, \n",
    "    X: np.array, \n",
    "    y: np.array,\n",
    "    lambdas: int\n",
    ") -> [float, np.array]:\n",
    "    '''\n",
    "    Calculates cost function and gradient for a set of thetas.\n",
    "    \n",
    "    Args:\n",
    "        theta(np.array): Set of thetas(weights) to apply to features X\n",
    "        X(np.array): Original set of features.\n",
    "        y(np.array): Target values for observations X\n",
    "        lambdas(int): Regularization parameters\n",
    "        \n",
    "    Returns:\n",
    "        J(float): Error function - in this case we use average squared error.\n",
    "        grad(np.array): Thetas gradient array.\n",
    "    '''\n",
    "    # Reshape Theta\n",
    "    theta = theta.reshape(theta.shape[0],1)\n",
    "    \n",
    "    # Add Bias term to X\n",
    "    ones_vector = np.ones((len(X),1))\n",
    "    X_extended = np.hstack((ones_vector,X)) \n",
    "    \n",
    "    # Calculate number of examples in sample\n",
    "    m = len(y)\n",
    "    # Calculate hypothesis\n",
    "    h = np.dot(theta.T.reshape(1,theta.shape[0]), X_extended.T)\n",
    "    \n",
    "    # Calculate error\n",
    "    error = h.T - y\n",
    "\n",
    "    J = sum(error**2)/(2*m) + lambdas/(2*m)*sum(theta[1:]**2)\n",
    "    # Calculate gradient, avoid regularization of Theta 0\n",
    "    grad = np.dot(error.T,X_extended) / m + np.append(np.array(0), (lambdas/m*theta[1:]))\n",
    "    \n",
    "    return J, grad"
   ]
  },
  {
   "cell_type": "code",
   "execution_count": 6,
   "metadata": {},
   "outputs": [],
   "source": [
    "theta = np.array([1,1])\n",
    "# Reshape the original array\n",
    "theta = theta.reshape(len(theta),1)\n",
    "\n",
    "# Check cost function and theta from regularized linear regression\n",
    "J, grad = linearRegCostFunction(theta,X,y, 1)"
   ]
  },
  {
   "cell_type": "code",
   "execution_count": 7,
   "metadata": {},
   "outputs": [
    {
     "name": "stdout",
     "output_type": "stream",
     "text": [
      "Cost at theta [1,1] is 303.9931922202643\n"
     ]
    }
   ],
   "source": [
    "print('Cost at theta [1,1] is {}'.format(float(J)))"
   ]
  },
  {
   "cell_type": "code",
   "execution_count": 8,
   "metadata": {},
   "outputs": [
    {
     "name": "stdout",
     "output_type": "stream",
     "text": [
      "Grad at theta [1,1] is -15.303015674201186, 598.2507441727037\n"
     ]
    }
   ],
   "source": [
    "print('Grad at theta [1,1] is {}, {}'.format(float(grad[:,0]), float(grad[:,1])))"
   ]
  },
  {
   "cell_type": "markdown",
   "metadata": {},
   "source": [
    "As usual, let's minimize our cost function:"
   ]
  },
  {
   "cell_type": "code",
   "execution_count": 9,
   "metadata": {},
   "outputs": [],
   "source": [
    "# Train Linear Regression \n",
    "\n",
    "# implementation based on Gerges Dib (github user:dibgerge) - optimizing our costFunction using scipy optimize library. \n",
    "# We minimize the cost function starting on the initial theta \n",
    "# TNC means Truncated Newton Algorithm and maxiter is set to 200 \n",
    "def trainLinearRegression(\n",
    "    linearRegCostFunction: callable, \n",
    "    X: np.array, \n",
    "    y: np.array, \n",
    "    lambda_:int\n",
    ") -> np.array:\n",
    "    \n",
    "    '''\n",
    "    Trains linear regression by minimizing the cost function \n",
    "    and returns optimal theta.\n",
    "    \n",
    "    Args:\n",
    "        linearRegCostFunction(callable): Function to compute cost\n",
    "        function and gradient.\n",
    "        X(np.array): Original values of features of X.\n",
    "        y(np.array): Target values of observations X.\n",
    "        lambda_(int): Regularization parameters.\n",
    "        \n",
    "    Returns:\n",
    "        res.x(np.array): Optimal thetas found by\n",
    "        minimization of cost function.\n",
    "    '''\n",
    "    # Expect N values for theta + 1 (bias term theta)\n",
    "    initial_theta = np.zeros((X.shape[1]+1,1))\n",
    "\n",
    "    options= {'maxiter': 200}\n",
    "\n",
    "    res = optimize.minimize(linearRegCostFunction,\n",
    "                            initial_theta,\n",
    "                            (X,y,lambda_),\n",
    "                            jac=True,\n",
    "                            method='TNC',\n",
    "                            options=options)\n",
    "    \n",
    "    return res.x"
   ]
  },
  {
   "cell_type": "code",
   "execution_count": 10,
   "metadata": {},
   "outputs": [
    {
     "name": "stdout",
     "output_type": "stream",
     "text": [
      "Optimal theta found by optimize method: [13.08790351  0.36777923]\n"
     ]
    }
   ],
   "source": [
    "print('Optimal theta found by optimize method: {}'.format((trainLinearRegression(linearRegCostFunction, X, y, 0))))\n",
    "\n",
    "opt_theta = trainLinearRegression(linearRegCostFunction, X, y, 0)"
   ]
  },
  {
   "cell_type": "code",
   "execution_count": 11,
   "metadata": {},
   "outputs": [
    {
     "data": {
      "text/plain": [
       "[<matplotlib.lines.Line2D at 0x123c2c6d8>]"
      ]
     },
     "execution_count": 11,
     "metadata": {},
     "output_type": "execute_result"
    },
    {
     "data": {
      "image/png": "[encoded data removed]",
      "text/plain": [
       "<Figure size 432x288 with 1 Axes>"
      ]
     },
     "metadata": {
      "needs_background": "light"
     },
     "output_type": "display_data"
    }
   ],
   "source": [
    "# Create X extended version with Bias term - we will use it to plot our best-fitted line\n",
    "ones_vector = np.ones((len(X),1))\n",
    "X_extended = np.hstack((ones_vector,X))\n",
    "    \n",
    "# Plot our data showing Change in Water level in y-axis and Water flowing out of the dam in the x-axis \n",
    "# Plot the corresponding line resulting from the regularized linear regression\n",
    "plotData(X,y)\n",
    "plt.plot(X_extended[:,1],np.dot(opt_theta.T,X_extended.T))"
   ]
  },
  {
   "cell_type": "markdown",
   "metadata": {},
   "source": [
    "Notice how our points do not follow a linear trend. Our line resulting from minimizing the cost function can't capture the effects of this data. In 2-D it is easy to understand this but most of the cases you need to resort to other techniques to understand how this is impacting your machine learning model."
   ]
  },
  {
   "cell_type": "markdown",
   "metadata": {},
   "source": [
    "Our model shows an classical example of a high biased one. The opposite (a high variance one) would be a model with the line perfectly fitting our data points, thus showing an overfitting behavior.\n",
    "\n",
    "One way to diagnose bias vs. variance is by plotting learning curves - something we will do below. Also, we introduce the concept of a validation set - a validation set is new data that your model did not see during training - in almost every machine learning problems you will apply an algorithm to unseen data and it is really important to know how well your model behaves when he sees new data. Learning curves help us visualize the error function on the training set and the validation set through the whole training process."
   ]
  },
  {
   "cell_type": "markdown",
   "metadata": {},
   "source": [
    "# Exercise 2 - Plotting Learning Curves"
   ]
  },
  {
   "cell_type": "code",
   "execution_count": 12,
   "metadata": {},
   "outputs": [],
   "source": [
    "# Define new lambda \n",
    "\n",
    "lambda_ = 0\n",
    "\n",
    "# Define Learning Curve function\n",
    "def learningCurve(\n",
    "    linearRegCostFunction, \n",
    "    X: np.array, \n",
    "    y: np.array, \n",
    "    X_val: np.array, \n",
    "    y_val: np.array, \n",
    "    lambda_: int\n",
    ") -> [np.array, np.array]:\n",
    "    \n",
    "    '''\n",
    "    Plots learning curve by training several regularized \n",
    "    linear regression using m examples.\n",
    "    \n",
    "    Args:\n",
    "        linearRegCostFunction(callable): Function to compute cost\n",
    "        function and gradient.\n",
    "        X(np.array): Original values of features of X.\n",
    "        y(np.array): Target values of observations X.\n",
    "        X_val(np.array): Original values of features of unseen data.\n",
    "        y_val(np.array): Original values of target of unseen data.\n",
    "        lambda_(int): Regularization parameter.\n",
    "        \n",
    "    Returns:\n",
    "        error_train(float): Cost function of training data.\n",
    "        error_val(float): Cost function of validation set.\n",
    "    '''\n",
    "\n",
    "    # Number of training examples \n",
    "\n",
    "    m = len(X)\n",
    "\n",
    "    # Create empty arrays for each error calculation\n",
    "    error_train = np.zeros((m,1))\n",
    "    error_val = np.zeros((m,1))\n",
    "\n",
    "    # Train linear regression with an ascending number of samples\n",
    "\n",
    "    for i in range(0,m):\n",
    "        # Obtain subset of training examples\n",
    "        batch_features = X[0:i+1, :]\n",
    "        batch_target = y[0:i+1,:]\n",
    "\n",
    "        # Obtain optimal theta for given examples and obtain the cost function given that theta\n",
    "        theta_train = trainLinearRegression(linearRegCostFunction, batch_features, batch_target, lambda_)\n",
    "        iter_j_train = linearRegCostFunction(theta_train, batch_features, batch_target, lambda_)\n",
    "\n",
    "        # Fit optimal model on Validation set (unseen data)\n",
    "        iter_j_val = linearRegCostFunction(theta_train, X_val, y_val, lambda_)\n",
    "        # Assign training error to corresponding array position\n",
    "        error_train[i] = iter_j_train[0]\n",
    "        error_val[i] = iter_j_val[0]\n",
    "\n",
    "    return error_train, error_val"
   ]
  },
  {
   "cell_type": "code",
   "execution_count": 13,
   "metadata": {},
   "outputs": [],
   "source": [
    "# Obtain Learning  Curves\n",
    "error_train, error_val = learningCurve(linearRegCostFunction, X, y, X_val, y_val, 0)"
   ]
  },
  {
   "cell_type": "code",
   "execution_count": 14,
   "metadata": {},
   "outputs": [
    {
     "data": {
      "text/plain": [
       "<matplotlib.legend.Legend at 0x123d092e8>"
      ]
     },
     "execution_count": 14,
     "metadata": {},
     "output_type": "execute_result"
    },
    {
     "data": {
      "image/png": "[encoded data removed]",
      "text/plain": [
       "<Figure size 432x288 with 1 Axes>"
      ]
     },
     "metadata": {
      "needs_background": "light"
     },
     "output_type": "display_data"
    }
   ],
   "source": [
    "# Plot Cost function on train and validation sets \n",
    "plt.plot(error_train)\n",
    "plt.plot(error_val)\n",
    "plt.xlabel('Number of Rows in Training')\n",
    "plt.ylabel('J (Cost Function / Error)')\n",
    "plt.legend(['Train Set','Validation Set'])"
   ]
  },
  {
   "cell_type": "markdown",
   "metadata": {},
   "source": [
    "Notice how the error keeps increasing on the training set, being high for both validation and train sets when we are increasing the number of rows.\n",
    "The plot shows a classical learning curve for a high bias model. As we have seen, our fitted line does not capture the effects of the water flowing out of the dam given the change in water level and this was the expected behavior.\n",
    "\n",
    "For this scenario, probably the features that we are using will not be sufficient to develop a good model, no matter the sample size we can gather.\n",
    "\n",
    "**What can we do to improve the model?**"
   ]
  },
  {
   "cell_type": "markdown",
   "metadata": {},
   "source": [
    "# Exercise 3 - Polynomial Regression"
   ]
  },
  {
   "cell_type": "markdown",
   "metadata": {},
   "source": [
    "Using polynomial features we may be able to mimic some non-linearity of the model."
   ]
  },
  {
   "cell_type": "code",
   "execution_count": 15,
   "metadata": {},
   "outputs": [],
   "source": [
    "# Define polynomial order\n",
    "\n",
    "p = 8 \n",
    "\n",
    "def polyFeatures(\n",
    "    X: np.array, \n",
    "    p:int\n",
    ")-> np.array: \n",
    "    '''\n",
    "    Computes polynomial features until dimension p\n",
    "    of array X.\n",
    "    \n",
    "    Args:\n",
    "        X(np.array): Original feature.\n",
    "        p(int): Highest degree of polynomial to compute.\n",
    "    Returns: \n",
    "        X_poly(np.array): Polynomial features of original X array\n",
    "    '''\n",
    "    # Add column of ones to the array \n",
    "    X_poly = np.zeros((X.shape[0], p))\n",
    "    for i in range(1,p+1):\n",
    "        # Raise X to the power of i \n",
    "        X_poly[:,i-1] = (X ** i).reshape(len(X))\n",
    "\n",
    "    return X_poly"
   ]
  },
  {
   "cell_type": "code",
   "execution_count": 16,
   "metadata": {},
   "outputs": [],
   "source": [
    "# Compute polynomial features\n",
    "X_poly = polyFeatures(X,8)"
   ]
  },
  {
   "cell_type": "code",
   "execution_count": 17,
   "metadata": {},
   "outputs": [],
   "source": [
    "# We need to normalize the features to train the linear regression\n",
    "# with the polynomial features - they have completely different scales\n",
    "def featureNormalize(\n",
    "    X: np.array, \n",
    "    mu=[],\n",
    "    sigma=[]\n",
    ") -> np.array:\n",
    "    '''\n",
    "    Normalizes features by subtracting the mean and dividing the value by the standard deviation    \n",
    "    \n",
    "    Args:\n",
    "        X(np.array): Original feature space.\n",
    "        mu(list): Array of means.\n",
    "        sigma(list): Array of standard deviations.\n",
    "    Returns:\n",
    "        X_standardized(np.array): Normalized feature space.\n",
    "        mu(np.array): Array of means of p features.\n",
    "        sigma(np.array): Array of standard deviation of p features.\n",
    "    '''\n",
    "    # If mu not stated in function, compute\n",
    "    if len(mu) == 0:\n",
    "        mu = np.mean(X, axis=0)\n",
    "        # One degree of freedom in standard deviation to match Octave implementation\n",
    "        sigma = np.std(X, axis=0, ddof=1)\n",
    "        \n",
    "    X_standardized = (X - mu)/sigma\n",
    "    return X_standardized, mu, sigma"
   ]
  },
  {
   "cell_type": "code",
   "execution_count": 18,
   "metadata": {},
   "outputs": [],
   "source": [
    "X_poly, mu, sigma = featureNormalize(X_poly)"
   ]
  },
  {
   "cell_type": "code",
   "execution_count": 19,
   "metadata": {},
   "outputs": [],
   "source": [
    "# Map X_test and X_Val using Mu and Sigma from training set\n",
    "X_poly_test = polyFeatures(X_test,p)\n",
    "X_poly_test, _, _ = featureNormalize(X_poly_test, mu, sigma)"
   ]
  },
  {
   "cell_type": "code",
   "execution_count": 20,
   "metadata": {},
   "outputs": [],
   "source": [
    "# Map X_test and X_Val using Mu and Sigma from training set\n",
    "\n",
    "X_poly_val = polyFeatures(X_val,p)\n",
    "X_poly_val, _ ,_ = featureNormalize(X_poly_val, mu, sigma)\n",
    "\n",
    "# Add Bias term to X Validation Set\n",
    "ones_vector = np.ones((len(X_poly_val),1))\n",
    "X_poly_val_extended = np.hstack((ones_vector,X_poly_val)) "
   ]
  },
  {
   "cell_type": "markdown",
   "metadata": {},
   "source": [
    "Now that we have our polynomial features, we are going to train our polynomial regression using them. Naturally, the line will not be a completely linear one but instead will have some curves associated with the output of the model. We will set lambda = 0 to match Octave implementation."
   ]
  },
  {
   "cell_type": "markdown",
   "metadata": {},
   "source": [
    "**Polynomial regression formula is as follows:**\n",
    "\n",
    "<img src=\"assets/PolynomialRegression.JPG\">"
   ]
  },
  {
   "cell_type": "code",
   "execution_count": 21,
   "metadata": {},
   "outputs": [
    {
     "name": "stdout",
     "output_type": "stream",
     "text": [
      "Optimal theta found by optimize method: [11.21758935  0.96420878  0.32296631  0.74742798  0.14423032  0.5558083\n",
      "  0.02028321  0.41869296 -0.05800437]\n"
     ]
    }
   ],
   "source": [
    "opt_theta_poly = trainLinearRegression(linearRegCostFunction, X_poly, y, 100)\n",
    "\n",
    "print('Optimal theta found by optimize method: {}'.format((opt_theta_poly)))"
   ]
  },
  {
   "cell_type": "code",
   "execution_count": 22,
   "metadata": {},
   "outputs": [],
   "source": [
    "def plotPolynomial(\n",
    "    optimal_theta: np.array,\n",
    "    mu: np.array,\n",
    "    sigma: np.array,\n",
    "    n: int, \n",
    "    p: int,\n",
    "    X: np.array, \n",
    "    y: np.array\n",
    ") -> None:\n",
    "    '''\n",
    "    Plots polynomial regression for n sample points\n",
    "    We plot the original data and a regression line using the optimal_theta parameter\n",
    "    \n",
    "    Args:\n",
    "        optimal_theta(np.array): Optimal theta returned by the optimization of the cost function\n",
    "        mu(np.array): Array of means.\n",
    "        sigma(np.array): Array of standard deviations,.\n",
    "        n(int): Number of observations.\n",
    "        p(int): Maximum polynomial degree.\n",
    "        X(np.array): Original features array.\n",
    "        y(np.array): Target values array.\n",
    "    \n",
    "    Returns:\n",
    "        None\n",
    "    '''\n",
    "    \n",
    "    x_axis = np.linspace(min(X)-15,max(X)+25,2512)\n",
    "\n",
    "    xmat = polyFeatures(x_axis,p)\n",
    "    \n",
    "    #This is undoing feature normalization\n",
    "    \n",
    "    xmat, _, _ = featureNormalize(xmat, mu, sigma)\n",
    "    \n",
    "    #Add Bias Term\n",
    "    ones_vector = np.ones((len(xmat),1))\n",
    "    xmat = np.hstack((ones_vector,xmat))     \n",
    "    #print(xmat)\n",
    "    plotData(X,y)\n",
    "    \n",
    "    h = np.dot(xmat,optimal_theta.reshape(optimal_theta.shape[0],1))\n",
    "    plt.plot(x_axis,h,'b--')\n",
    "    \n",
    "    plt.legend(['Polynomial Regression Fitted Line', 'Real Data Points'])"
   ]
  },
  {
   "cell_type": "code",
   "execution_count": 23,
   "metadata": {},
   "outputs": [
    {
     "data": {
      "image/png": "[encoded data removed]",
      "text/plain": [
       "<Figure size 432x288 with 1 Axes>"
      ]
     },
     "metadata": {
      "needs_background": "light"
     },
     "output_type": "display_data"
    }
   ],
   "source": [
    "plotPolynomial(opt_theta_poly,mu,sigma,100, 8, X, y)"
   ]
  },
  {
   "cell_type": "markdown",
   "metadata": {},
   "source": [
    "# Exercise 4 - Bias vs. Variance Tradeoff"
   ]
  },
  {
   "cell_type": "code",
   "execution_count": 24,
   "metadata": {},
   "outputs": [],
   "source": [
    "# Obtain Learning  Curves for Polynomial Regression\n",
    "error_train_poly, error_val_poly = learningCurve(linearRegCostFunction, X_poly, y, X_poly_val, y_val, 100)"
   ]
  },
  {
   "cell_type": "code",
   "execution_count": 25,
   "metadata": {},
   "outputs": [
    {
     "data": {
      "text/plain": [
       "<matplotlib.legend.Legend at 0x123f85eb8>"
      ]
     },
     "execution_count": 25,
     "metadata": {},
     "output_type": "execute_result"
    },
    {
     "data": {
      "image/png": "[encoded data removed]",
      "text/plain": [
       "<Figure size 432x288 with 1 Axes>"
      ]
     },
     "metadata": {
      "needs_background": "light"
     },
     "output_type": "display_data"
    }
   ],
   "source": [
    "# Plot Cost function on train and validation sets using polynomial regression with lambda set to 0\n",
    "plt.plot(error_train_poly)\n",
    "plt.plot(error_val_poly)\n",
    "plt.xlabel('Number of Rows in Training')\n",
    "plt.ylabel('J (Cost Function / Error)')\n",
    "plt.legend(['Train Set','Validation Set'])"
   ]
  },
  {
   "cell_type": "markdown",
   "metadata": {},
   "source": [
    "Notice how the learning curve is completely different in the polynomial regression we have trained above. Training set cost function is higher in most iterations as you are not clearly capturing the effects of the target variable. What happens when we set regularization to zero?"
   ]
  },
  {
   "cell_type": "code",
   "execution_count": 26,
   "metadata": {},
   "outputs": [
    {
     "data": {
      "image/png": "[encoded data removed]",
      "text/plain": [
       "<Figure size 432x288 with 1 Axes>"
      ]
     },
     "metadata": {
      "needs_background": "light"
     },
     "output_type": "display_data"
    }
   ],
   "source": [
    "opt_theta_poly_lambda_0 = trainLinearRegression(linearRegCostFunction, X_poly, y, 0)\n",
    "plotPolynomial(opt_theta_poly_lambda_0,mu,sigma,100, 8, X, y)"
   ]
  },
  {
   "cell_type": "markdown",
   "metadata": {},
   "source": [
    "The fitted line is perfectly adapting itself to the points on the curve. The problem is, when you have new data points your fitted line may not generalize well enough, hence the necessity of regularization."
   ]
  },
  {
   "cell_type": "code",
   "execution_count": 27,
   "metadata": {},
   "outputs": [],
   "source": [
    "# Obtain Learning  Curves for Polynomial Regression\n",
    "error_train_poly_lambda_0, error_val_poly_lambda_0 = learningCurve(linearRegCostFunction, X_poly, y, X_poly_val, y_val, 1)"
   ]
  },
  {
   "cell_type": "code",
   "execution_count": 28,
   "metadata": {},
   "outputs": [
    {
     "data": {
      "text/plain": [
       "<matplotlib.legend.Legend at 0x1241122e8>"
      ]
     },
     "execution_count": 28,
     "metadata": {},
     "output_type": "execute_result"
    },
    {
     "data": {
      "image/png": "[encoded data removed]",
      "text/plain": [
       "<Figure size 432x288 with 1 Axes>"
      ]
     },
     "metadata": {
      "needs_background": "light"
     },
     "output_type": "display_data"
    }
   ],
   "source": [
    "# Plot Cost function on train and validation sets using polynomial regression\n",
    "plt.plot(error_train_poly_lambda_0)\n",
    "plt.plot(error_val_poly_lambda_0)\n",
    "plt.xlabel('Number of Rows in Training')\n",
    "plt.ylabel('J (Cost Function / Error)')\n",
    "plt.legend(['Train Set','Validation Set'])"
   ]
  },
  {
   "cell_type": "markdown",
   "metadata": {},
   "source": [
    "How can we select an optimal lambda parameter?"
   ]
  },
  {
   "cell_type": "code",
   "execution_count": 29,
   "metadata": {},
   "outputs": [],
   "source": [
    "def validationCurve(\n",
    "    linearRegCostFunction: callable, \n",
    "    X: np.array, \n",
    "    y: np.array, \n",
    "    X_val: np.array, \n",
    "    y_val: np.array\n",
    ") -> [np.array, np.array]:\n",
    "    '''\n",
    "    Computes error values for training and test set \n",
    "    according to different lambdas.\n",
    "    \n",
    "    Args:\n",
    "        linearRegCostFunction(callable): Function to compute iteration of \n",
    "        cost function and minimization.\n",
    "        X(np.array): Original array of features.\n",
    "        y(np.array): Array of target values.\n",
    "        X_val(np.array): Original array of features of validation set.\n",
    "        y_val(np.array): Array of target values of validations set.\n",
    "    '''\n",
    "    lambda_vec = np.array([0,0.001,0.003,0.01,0.03,0.1,0.3,1,3,10])\n",
    "    m = len(lambda_vec)\n",
    "    \n",
    "    # Create empty arrays for each error calculation per lambda\n",
    "    error_train = np.zeros((m,1))\n",
    "    error_val = np.zeros((m,1))\n",
    "    \n",
    "    for i in range(0,m):\n",
    "        opt_theta = trainLinearRegression(linearRegCostFunction, X, y, lambda_vec[i])\n",
    "        j_train = linearRegCostFunction(opt_theta, X, y, lambda_vec[i])[0]\n",
    "        \n",
    "        error_train[i] = j_train\n",
    "        \n",
    "        # Fit Obtain Test Set Cost Function\n",
    "        j_val = linearRegCostFunction(opt_theta, X_val, y_val, lambda_vec[i])[0]\n",
    "        \n",
    "        error_val[i] = j_val\n",
    "        \n",
    "    return error_train, error_val"
   ]
  },
  {
   "cell_type": "code",
   "execution_count": 30,
   "metadata": {},
   "outputs": [],
   "source": [
    "error_train_lambda, error_val_lambda = validationCurve(linearRegCostFunction, X_poly, y, X_poly_val, y_val)"
   ]
  },
  {
   "cell_type": "code",
   "execution_count": 31,
   "metadata": {},
   "outputs": [
    {
     "data": {
      "text/plain": [
       "<matplotlib.legend.Legend at 0x124214cf8>"
      ]
     },
     "execution_count": 31,
     "metadata": {},
     "output_type": "execute_result"
    },
    {
     "data": {
      "image/png": "[encoded data removed]",
      "text/plain": [
       "<Figure size 432x288 with 1 Axes>"
      ]
     },
     "metadata": {
      "needs_background": "light"
     },
     "output_type": "display_data"
    }
   ],
   "source": [
    "#Plot Cost function on train and validation sets using polynomial regression\n",
    "plt.plot(error_train_lambda)\n",
    "plt.plot(error_val_lambda)\n",
    "plt.xlabel('Lambda')\n",
    "plt.ylabel('J (Cost Function / Error)')\n",
    "plt.legend(['Train Set','Validation Set'])"
   ]
  },
  {
   "cell_type": "markdown",
   "metadata": {},
   "source": [
    "Iterating through lambdas help us visualize the effect of regularization in the cost function and choose the appropriate lambda. In the above example a lambda of 7 is where both lines cross. If you want to allow some overfitting in the model you can choose lambda = 6 as it minimizes the validation error but produces a higher error on unseen dataset. \n",
    "<br>**Checking the fitted line with lambda = 6:**"
   ]
  },
  {
   "cell_type": "code",
   "execution_count": 32,
   "metadata": {},
   "outputs": [
    {
     "data": {
      "image/png": "[encoded data removed]",
      "text/plain": [
       "<Figure size 432x288 with 1 Axes>"
      ]
     },
     "metadata": {
      "needs_background": "light"
     },
     "output_type": "display_data"
    }
   ],
   "source": [
    "opt_theta_lambda_6 = trainLinearRegression(linearRegCostFunction, X_poly, y, 6)\n",
    "plotPolynomial(opt_theta_lambda_6,mu,sigma,100, 8, X, y)"
   ]
  }
 ],
 "metadata": {
  "kernelspec": {
   "display_name": "Python 3",
   "language": "python",
   "name": "python3"
  },
  "language_info": {
   "codemirror_mode": {
    "name": "ipython",
    "version": 3
   },
   "file_extension": ".py",
   "mimetype": "text/x-python",
   "name": "python",
   "nbconvert_exporter": "python",
   "pygments_lexer": "ipython3",
   "version": "3.7.3"
  }
 },
 "nbformat": 4,
 "nbformat_minor": 2
}
