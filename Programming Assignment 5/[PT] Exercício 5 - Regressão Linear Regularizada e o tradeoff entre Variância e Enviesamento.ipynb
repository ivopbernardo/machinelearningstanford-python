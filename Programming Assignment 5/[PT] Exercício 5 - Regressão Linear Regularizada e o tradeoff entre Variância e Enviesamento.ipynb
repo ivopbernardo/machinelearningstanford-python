{
 "cells": [
  {
   "cell_type": "markdown",
   "metadata": {},
   "source": [
    "Os seguintes scripts são uma versão Python do curso de Machine Learning do professor Andrew Ng da universidade de Stanford leccionado na plataforma Coursera.\n",
    "\n",
    "**Nota: Todos os dados e estrutura do exercício pertencem à Universidade de Stanford**\n",
    "\n",
    "**Ressalva:** Os scripts não estão implementados de forma modular para todas as funções serem consultadas no mesmo Jupyter Notebook - ao contrário da implementação Octave."
   ]
  },
  {
   "cell_type": "markdown",
   "metadata": {},
   "source": [
    "# Exercício1 - Regressão Linear Regularizada"
   ]
  },
  {
   "cell_type": "code",
   "execution_count": 1,
   "metadata": {},
   "outputs": [],
   "source": [
    "# Importar as libraries do numpy para lidar com matrizes e vectores\n",
    "import numpy as np\n",
    "# Importar o pandas para ler ficheiros\n",
    "import pandas as pd\n",
    "# Importar o matplotlib para fazer um gráfico dos dados\n",
    "import matplotlib.pyplot as plt\n",
    "\n",
    "# Importar o módulo de matemática\n",
    "import math \n",
    "\n",
    "# Importar a função de optimização do scipy\n",
    "from scipy import optimize, io\n",
    "from scipy.ndimage import rotate\n",
    "\n",
    "# Matplotlib notebook property\n",
    "%matplotlib inline"
   ]
  },
  {
   "cell_type": "code",
   "execution_count": 2,
   "metadata": {},
   "outputs": [
    {
     "name": "stdout",
     "output_type": "stream",
     "text": [
      "# exemplos de treino: 12\n"
     ]
    }
   ],
   "source": [
    "# Usar o scipy para carregar as matrizes originais\n",
    "ex5_file = io.loadmat('ex5data1.mat')\n",
    "\n",
    "# Ler os dados de treino\n",
    "X = np.array(ex5_file['X'])\n",
    "y = np.array(ex5_file['y'])\n",
    "\n",
    "# Ler os dados de teste\n",
    "X_test = np.array(ex5_file['Xtest'])\n",
    "y_test = np.array(ex5_file['ytest'])\n",
    "\n",
    "# Assignar o conjunto de validação\n",
    "X_val = np.array(ex5_file['Xval'])\n",
    "y_val = np.array(ex5_file['yval'])\n",
    "\n",
    "print('# exemplos de treino: {}'.format(len(X)))\n",
    "m = len(X)"
   ]
  },
  {
   "cell_type": "markdown",
   "metadata": {},
   "source": [
    "Os dados consistem em informação bruta retirado de uma barragem com o objecto de prever a quantidade de água que está a sair do aqueduto com base no nível de água nos depísitos. Neste exercício vamos dar mais um passo na compreensão da regularização, além de compreendermos o trade-off entre modelos com demasiada variância ou demasiado enviesamento."
   ]
  },
  {
   "cell_type": "code",
   "execution_count": 3,
   "metadata": {},
   "outputs": [],
   "source": [
    "def graficoDados(\n",
    "    X: np.array,\n",
    "    y: np.array\n",
    ") -> None:\n",
    "    '''\n",
    "    Produz gráfico 2-D dos dados. \n",
    "    \n",
    "    Args:\n",
    "        X(np.array): Vector original de features.\n",
    "        y(np.array): Valores target para cada observação no Vector X\n",
    "    Returns:\n",
    "        None\n",
    "    '''\n",
    "    plt.scatter(X, y, marker='X', color='red')\n",
    "    plt.xlabel('Mudança no nível da água (x)')\n",
    "    plt.ylabel('Água a sair da barragem (y)')"
   ]
  },
  {
   "cell_type": "code",
   "execution_count": 4,
   "metadata": {},
   "outputs": [
    {
     "data": {
      "image/png": "[encoded data removed]",
      "text/plain": [
       "<Figure size 432x288 with 1 Axes>"
      ]
     },
     "metadata": {
      "needs_background": "light"
     },
     "output_type": "display_data"
    }
   ],
   "source": [
    "# Gráfico 2-D dos dados\n",
    "graficoDados(X,y)"
   ]
  },
  {
   "cell_type": "markdown",
   "metadata": {},
   "source": [
    "Visualizando o gráfico 2-D podemos verificar o comportamento estável da variável y até ao ponto 0 da variável X - até esse ponto a variabilidade na variável y é muito reduzida. Depois de passarmos o ponto 0 na mudança no nível de água, a variável y exibe um comportamento aproximadamente exponencial."
   ]
  },
  {
   "cell_type": "markdown",
   "metadata": {},
   "source": [
    "Treinando uma regressão linear apenas com a variável original não nos irá ajudar porque irá, possivelmente, sobre-estimar os valores de y iniciais em função de x e sub-estimar os valores de Y quando X fica maior. Vamos verificar abaixo qual o potencial efeito de treinar uma regressão linear nestes dados."
   ]
  },
  {
   "cell_type": "markdown",
   "metadata": {},
   "source": [
    "<br>\n",
    "A função de custo para a regressao logística regularizada é a seguinte: "
   ]
  },
  {
   "cell_type": "markdown",
   "metadata": {},
   "source": [
    "<img src=\"assets/CostFunction.JPG\">"
   ]
  },
  {
   "cell_type": "markdown",
   "metadata": {},
   "source": [
    "E a fórmula do gradiente:"
   ]
  },
  {
   "cell_type": "markdown",
   "metadata": {},
   "source": [
    "<img src=\"assets/GradientRegularizedLinearRegression.JPG\">"
   ]
  },
  {
   "cell_type": "markdown",
   "metadata": {},
   "source": [
    "<b>Como vimos noutras aulas, um valor maior de lambda aumenta a penalização dos coeficientes no modelo, reduzindo o \"overfitting\" do modelo."
   ]
  },
  {
   "cell_type": "code",
   "execution_count": 5,
   "metadata": {},
   "outputs": [],
   "source": [
    "# Definir a função de custo e de gradiente\n",
    "\n",
    "def regLinearFuncaoCusto(\n",
    "    theta: np.array, \n",
    "    X: np.array, \n",
    "    y: np.array,\n",
    "    lambdas: int\n",
    ") -> [float, np.array]:\n",
    "    '''\n",
    "    Calcula a função de custo e o gradiente para um conjunto de thetas.\n",
    "    \n",
    "    Args:\n",
    "        theta(np.array): Conjunto de thetas(pesos) para aplicar às features X\n",
    "        X(np.array): Conjunto original de features.\n",
    "        y(np.array): Valores target para as observações de X.\n",
    "        lambdas(int): Parâmetro de regularização.\n",
    "        \n",
    "    Retorna:\n",
    "        J(float): Função de erro - neste caso usamos o erro quadrado médio.\n",
    "        grad(np.array): O gradiente dos Thetas em função à minimização de J.\n",
    "    '''\n",
    "    # Redimensionar o Theta\n",
    "    theta = theta.reshape(theta.shape[0],1)\n",
    "    \n",
    "    # Adicionar o vector de 1's (bias term)\n",
    "    vector_uns = np.ones((len(X),1))\n",
    "    X_ext = np.hstack((vector_uns,X)) \n",
    "    \n",
    "    # Calcular o número de exemplos X\n",
    "    m = len(y)\n",
    "    # Calcular a hipótese\n",
    "    h = np.dot(theta.T.reshape(1,theta.shape[0]), X_ext.T)\n",
    "    \n",
    "    # Calcular o erro\n",
    "    erro = h.T - y\n",
    "\n",
    "    # Calcular a função de custo\n",
    "    J = sum(erro**2)/(2*m) + lambdas/(2*m)*sum(theta[1:]**2)\n",
    "    # Calcular o gradiente regularizado e\n",
    "    grad = np.dot(erro.T,X_ext) / m + np.append(np.array(0), (lambdas/m*theta[1:]))\n",
    "    \n",
    "    return J, grad"
   ]
  },
  {
   "cell_type": "code",
   "execution_count": 6,
   "metadata": {},
   "outputs": [],
   "source": [
    "# Initicializar um theta\n",
    "theta = np.array([1,1])\n",
    "# Redimensionar o vector original\n",
    "theta = theta.reshape(len(theta),1)\n",
    "\n",
    "# Verificar a função de custo e o gradiente para os thetas iniciais\n",
    "J, grad = regLinearFuncaoCusto(theta,X,y, 1)"
   ]
  },
  {
   "cell_type": "code",
   "execution_count": 7,
   "metadata": {},
   "outputs": [
    {
     "name": "stdout",
     "output_type": "stream",
     "text": [
      "A função de custo para o theta [1,1] é 303.9931922202643\n"
     ]
    }
   ],
   "source": [
    "print('A função de custo para o theta [1,1] é {}'.format(float(J)))"
   ]
  },
  {
   "cell_type": "code",
   "execution_count": 8,
   "metadata": {},
   "outputs": [
    {
     "name": "stdout",
     "output_type": "stream",
     "text": [
      "O gradiente aplicar ao theta [1,1] é -15.303015674201186, 598.2507441727037\n"
     ]
    }
   ],
   "source": [
    "print('O gradiente aplicar ao theta [1,1] é {}, {}'.format(float(grad[:,0]), float(grad[:,1])))"
   ]
  },
  {
   "cell_type": "markdown",
   "metadata": {},
   "source": [
    "Vamos então minizar a nossa função de custo:"
   ]
  },
  {
   "cell_type": "code",
   "execution_count": 9,
   "metadata": {},
   "outputs": [],
   "source": [
    "# Treinar a regressão linear\n",
    "\n",
    "# implementação baseada no user Gerges Dib (github user:dibgerge) - \n",
    "# usamos a library scipy para optimizar a função de custo. \n",
    "# Minimizamos a função de custo começando no Theta initial_theta \n",
    "# TNC significa Truncated Newton Algorithm e o máximo de iterações que \n",
    "# vamos fazer face ao mínimo da função de custo são 200\n",
    "def treinarRegressaoLinear(\n",
    "    regLinearFuncaoCusto: callable, \n",
    "    X: np.array, \n",
    "    y: np.array, \n",
    "    lambda_:int\n",
    ") -> np.array:\n",
    "    \n",
    "    '''\n",
    "    Treina a regressão linear, minimizando a função de custo(erro)\n",
    "    e retorna os thetas óptimos encontrados.\n",
    "    \n",
    "    Args:\n",
    "        regLinearFuncaoCusto(callable): Função usada para calcular\n",
    "        uma iteração da função de custo e do gradiente.\n",
    "        X(np.array): Valores originais das features X.\n",
    "        y(np.array): Valores target das features X.\n",
    "        lambda_(int): Parâmetro de regularização.\n",
    "        \n",
    "    Retorna:\n",
    "        res.x(np.array): Thetas optimos encontrados \n",
    "        pelo método de optimização.\n",
    "    '''\n",
    " \n",
    "    theta_inicial = np.zeros((X.shape[1]+1,1))\n",
    "\n",
    "    options= {'maxiter': 200}\n",
    "\n",
    "    res = optimize.minimize(regLinearFuncaoCusto,\n",
    "                            theta_inicial,\n",
    "                            (X,y,lambda_),\n",
    "                            jac=True,\n",
    "                            method='TNC',\n",
    "                            options=options)\n",
    "    \n",
    "    return res.x"
   ]
  },
  {
   "cell_type": "code",
   "execution_count": 10,
   "metadata": {},
   "outputs": [
    {
     "name": "stdout",
     "output_type": "stream",
     "text": [
      "Theta óptimo encontrado pela optimização: [13.08790351  0.36777923]\n"
     ]
    }
   ],
   "source": [
    "opt_theta = treinarRegressaoLinear(regLinearFuncaoCusto, X, y, 0)\n",
    "print('Theta óptimo encontrado pela optimização: {}'.format(opt_theta))"
   ]
  },
  {
   "cell_type": "code",
   "execution_count": 11,
   "metadata": {},
   "outputs": [
    {
     "data": {
      "text/plain": [
       "[<matplotlib.lines.Line2D at 0x11aa75dd8>]"
      ]
     },
     "execution_count": 11,
     "metadata": {},
     "output_type": "execute_result"
    },
    {
     "data": {
      "image/png": "[encoded data removed]",
      "text/plain": [
       "<Figure size 432x288 with 1 Axes>"
      ]
     },
     "metadata": {
      "needs_background": "light"
     },
     "output_type": "display_data"
    }
   ],
   "source": [
    "# Adicionar o vector de uns para o gráfico de dados\n",
    "vector_uns = np.ones((len(X),1))\n",
    "X_ext = np.hstack((vector_uns,X))\n",
    "    \n",
    "# Gráfico 2-D com as variáveis X e Y\n",
    "# Colocar a linha correspondente à regressão linear treinada\n",
    "graficoDados(X,y)\n",
    "plt.plot(X_ext[:,1],np.dot(opt_theta.T,X_ext.T))"
   ]
  },
  {
   "cell_type": "markdown",
   "metadata": {},
   "source": [
    "Como os nossos pontos não seguem uma tendência linear, a nossa regressão não conseguiu capturar os efeitos da variável y em X mesmo minimizando o custo. Em 2D é fácil compreendermos isto mas na maioria dos casos temos de utilizar outras técnicas para compreender este efeito nos modelos de machine learning, principalmente quando falamos em casos de maior dimensionamento."
   ]
  },
  {
   "cell_type": "markdown",
   "metadata": {},
   "source": [
    "O nosso modelo mostra um caso clássico de um modelo com um alto enviesamento. O oposto disto seria um modelo com elevada variância em que a linha se ajustava de forma quase perfeita aos nossos casos de treino, podendo não generalizar para novos casos (outras barragens, por exemplo)."
   ]
  },
  {
   "cell_type": "markdown",
   "metadata": {},
   "source": [
    "Uma técnica utilizada para analisar o enviesamento vs. variância consiste em colocar num gráfico as curvas de aprendizagem do algoritmo. Além de vermos isto no próximo exercício vamos também introduzir o contexto de conjunto de validação - este conjunto é um conjunto denovos dados que o modelo não viu durante o treino - em quase todo os tipos de problemas de machine learning, o que irá sempre contar é a capacidade do modelo ser aplicado em dados nunca antes vistos - sendo esta uma métrica essencial para aferir a qualidade de previsão do mesmo. As curvas de aprendizagem ajudam-nos a compreender o comportamento do nosso erro ao longo de todo o processo de treino de um algoritmo."
   ]
  },
  {
   "cell_type": "markdown",
   "metadata": {},
   "source": [
    "# Exercício 2 - Gráfico de Curvas de Aprendizagem"
   ]
  },
  {
   "cell_type": "code",
   "execution_count": 12,
   "metadata": {},
   "outputs": [],
   "source": [
    "# Definir o novo lambda\n",
    "\n",
    "lambda_ = 0\n",
    "\n",
    "# Definir a função das curvas de aprendizagem\n",
    "def curvasAprendizagem(\n",
    "    regLinearFuncaoCusto, \n",
    "    X: np.array, \n",
    "    y: np.array, \n",
    "    X_val: np.array, \n",
    "    y_val: np.array, \n",
    "    lambda_: int\n",
    ") -> [np.array, np.array]:\n",
    "    \n",
    "    '''\n",
    "    Coloca num gráfico o erro de treino de uma regressão \n",
    "    logística treinada sob m exemplos.\n",
    "    \n",
    "    Args:\n",
    "        regLinearFuncaoCusto(callable): Função que computa o custo\n",
    "        e o gradiente.\n",
    "        X(np.array): Valores originais das features X.\n",
    "        y(np.array): Valores Target das observações X.\n",
    "        X_val(np.array): Valores originais das features dos dados não\n",
    "        vistos pelo modelo.\n",
    "        y_val(np.array): Valores originais do target de dados não \n",
    "        vistos pelo modelo.\n",
    "        lambda_(int): Parâmetros de regularização.\n",
    "        \n",
    "    Returns:\n",
    "        error_train(float): Erro do modelo treinado nos dados de treino.\n",
    "        error_val(float): Erro do conjunto de validação do modelo treinado.\n",
    "    '''\n",
    "\n",
    "    # Número de exemplos de treino\n",
    "    m = len(X)\n",
    "\n",
    "    # Placeholders para os valores de erro\n",
    "    erro_treino = np.zeros((m,1))\n",
    "    erro_val = np.zeros((m,1))\n",
    "\n",
    "    # Treinar a regressão linear de 0 até m exemplos\n",
    "\n",
    "    for i in range(0,m):\n",
    "        # Seleccionar apenas m exemplos das tabelas\n",
    "        batch_features = X[0:i+1, :]\n",
    "        batch_target = y[0:i+1,:]\n",
    "\n",
    "        # Obter o theta optimo para os exemplos fornecidos e obter a função de custo para esse theta\n",
    "        theta_train = treinarRegressaoLinear(regLinearFuncaoCusto, batch_features, batch_target, lambda_)\n",
    "        iter_j_train = regLinearFuncaoCusto(theta_train, batch_features, batch_target, lambda_)\n",
    "\n",
    "        # Verificar o erro no conjunto de validação\n",
    "        iter_j_val = regLinearFuncaoCusto(theta_train, X_val, y_val, lambda_)\n",
    "        # Assinar o erro ao placeholder correspondente\n",
    "        erro_treino[i] = iter_j_train[0]\n",
    "        erro_val[i] = iter_j_val[0]\n",
    "\n",
    "    return erro_treino, erro_val"
   ]
  },
  {
   "cell_type": "code",
   "execution_count": 13,
   "metadata": {},
   "outputs": [],
   "source": [
    "# Obter as curvas de aprendizagem\n",
    "erro_treino, erro_val = curvasAprendizagem(regLinearFuncaoCusto, X, y, X_val, y_val, 0)"
   ]
  },
  {
   "cell_type": "code",
   "execution_count": 14,
   "metadata": {},
   "outputs": [
    {
     "data": {
      "text/plain": [
       "<matplotlib.legend.Legend at 0x11ab63240>"
      ]
     },
     "execution_count": 14,
     "metadata": {},
     "output_type": "execute_result"
    },
    {
     "data": {
      "image/png": "[encoded data removed]",
      "text/plain": [
       "<Figure size 432x288 with 1 Axes>"
      ]
     },
     "metadata": {
      "needs_background": "light"
     },
     "output_type": "display_data"
    }
   ],
   "source": [
    "# Verificar graficamente o erro de validação e de treino\n",
    "plt.plot(erro_treino)\n",
    "plt.plot(erro_val)\n",
    "plt.xlabel('Número de Observações para treinar')\n",
    "plt.ylabel('J (Função de custo / Erro)')\n",
    "plt.legend(['Conjunto de Treino','Conjunto de Validação'])"
   ]
  },
  {
   "cell_type": "markdown",
   "metadata": {},
   "source": [
    "O erro aumenta à medida que vamos acrescentando mais dados ao treino - tipicamente esta evolução acontece quando temos um modelo com um elevado enviesamento - principalmente quando vemos um erro um pouco elevado à medida que acrescentamos dados para treino o modelo. Se a diferença entre o conjunto de treino e de validação fosse muito elevada estariamos perante um modelo com elevada variância. \n",
    "\n",
    "As features que temos, provavelmente, nunca irão capturar os efeitos da variável y. Vamos criar outro tipo de features para tentar melhorar a performance do nosso modelo."
   ]
  },
  {
   "cell_type": "markdown",
   "metadata": {},
   "source": [
    "# Exercício 3 - Regressão Polinomial"
   ]
  },
  {
   "cell_type": "markdown",
   "metadata": {},
   "source": [
    "Com \"features\" polinomiais poderemos, possívelmente, capturar alguns dos efeitos não-lineares da variável y. "
   ]
  },
  {
   "cell_type": "code",
   "execution_count": 15,
   "metadata": {},
   "outputs": [],
   "source": [
    "# Definir a ordem polinomial\n",
    "\n",
    "p = 8 \n",
    "\n",
    "def featuresPolinomiais(\n",
    "    X: np.array, \n",
    "    p:int\n",
    ")-> np.array: \n",
    "    '''\n",
    "    Calcula as features polinomiais até à ordem p \n",
    "    do vector X.\n",
    "    \n",
    "    Args:\n",
    "        X(np.array): Dados originais.\n",
    "        p(int): Grau limite para calcular polinomiais.\n",
    "    Retorna: \n",
    "        X_poly(np.array): Features polinomiais da variável X\n",
    "    '''\n",
    "    # Adicionar a coluna de uns \n",
    "    X_poli = np.zeros((X.shape[0], p))\n",
    "    for i in range(1,p+1):\n",
    "        # Elevar X à potência i \n",
    "        X_poli[:,i-1] = (X ** i).reshape(len(X))\n",
    "\n",
    "    return X_poli"
   ]
  },
  {
   "cell_type": "code",
   "execution_count": 16,
   "metadata": {},
   "outputs": [],
   "source": [
    "# Calcular features polinomiais\n",
    "X_poli = featuresPolinomiais(X,8)"
   ]
  },
  {
   "cell_type": "code",
   "execution_count": 17,
   "metadata": {},
   "outputs": [],
   "source": [
    "# Como as features polinomiais têm escalas completamente diferentes\n",
    "# Vamos ter de normalizar os valores\n",
    "def normalizarFeatures(\n",
    "    X: np.array, \n",
    "    media=[],\n",
    "    desvpad=[]\n",
    ") -> np.array:\n",
    "    '''\n",
    "    Normaliza as features ao subtrair a média e dividir \n",
    "    o valor pelo desvio-padrão.\n",
    "    \n",
    "    Args:\n",
    "        X(np.array): Valores originais da variável X.\n",
    "        media(list): Vector com a média das variáveis.\n",
    "        desvpad(list): Vector com os desvios-padrão das variáveis.\n",
    "    Returns:\n",
    "        X_estandardizada(np.array): Valores estandardizados da variável X.\n",
    "        media(np.array): Vector com as médias das variáveis estandardizadas.\n",
    "        desvpad(np.array): Vector com os desv-pad das variáveis estandardizadas.\n",
    "    '''\n",
    "    # Se não dermos a média à funções, calculamos a média e desvio padrão\n",
    "    if len(media) == 0:\n",
    "        media = np.mean(X, axis=0)\n",
    "        # Para nos equipararmos ao cálculo do octave usamos 1 grau de liberdade\n",
    "        desvpad = np.std(X, axis=0, ddof=1)\n",
    "        \n",
    "    X_estandardizada = (X - media)/desvpad\n",
    "    return X_estandardizada, media, desvpad"
   ]
  },
  {
   "cell_type": "code",
   "execution_count": 18,
   "metadata": {},
   "outputs": [],
   "source": [
    "X_poli, media, desvpad = normalizarFeatures(X_poli)"
   ]
  },
  {
   "cell_type": "code",
   "execution_count": 19,
   "metadata": {},
   "outputs": [],
   "source": [
    "# Normalizar o conjunto de teste usando os dados de treino.\n",
    "X_poli_teste = featuresPolinomiais(X_test,p)\n",
    "X_poli_teste, _, _ = normalizarFeatures(X_poli_teste, media, desvpad)"
   ]
  },
  {
   "cell_type": "code",
   "execution_count": 20,
   "metadata": {},
   "outputs": [],
   "source": [
    "X_poli_val = featuresPolinomiais(X_val,p)\n",
    "X_poli_val, _ ,_ = normalizarFeatures(X_poli_val, media, desvpad)\n",
    "\n",
    "# Adicionar o vector de uns ao conjunto de validação\n",
    "vector_uns = np.ones((len(X_poli_val),1))\n",
    "X_poli_val_ext = np.hstack((vector_uns,X_poli_val)) "
   ]
  },
  {
   "cell_type": "markdown",
   "metadata": {},
   "source": [
    "Vamos treinar a regressão com as features polinomiais. Naturalmente, a linha não será linear."
   ]
  },
  {
   "cell_type": "markdown",
   "metadata": {},
   "source": [
    "**A fórmula da nossa regressão polinomial é a seguinte:**\n",
    "\n",
    "<img src=\"assets/PolynomialRegression.JPG\">"
   ]
  },
  {
   "cell_type": "code",
   "execution_count": 21,
   "metadata": {},
   "outputs": [
    {
     "name": "stdout",
     "output_type": "stream",
     "text": [
      "Theta óptimo encontrado pela optimização: [11.21758935  0.96420878  0.32296631  0.74742798  0.14423032  0.5558083\n",
      "  0.02028321  0.41869296 -0.05800437]\n"
     ]
    }
   ],
   "source": [
    "opt_theta_poli = treinarRegressaoLinear(regLinearFuncaoCusto, X_poli, y, 100)\n",
    "\n",
    "print('Theta óptimo encontrado pela optimização: {}'.format((opt_theta_poli)))"
   ]
  },
  {
   "cell_type": "code",
   "execution_count": 22,
   "metadata": {},
   "outputs": [],
   "source": [
    "def graficoPolinomial(\n",
    "    theta_optimo: np.array,\n",
    "    media: np.array,\n",
    "    desvpad: np.array,\n",
    "    n: int, \n",
    "    p: int,\n",
    "    X: np.array, \n",
    "    y: np.array\n",
    ") -> None:\n",
    "    '''\n",
    "    Constrói gráfico da regressão polinomial para uma amostra\n",
    "    de n pontos.\n",
    "    \n",
    "    Args:\n",
    "        theta_optimo(np.array): Theta óptimo retornado pela optimização da\n",
    "        função de custo.\n",
    "        media(np.array): Vector de médias.\n",
    "        desvpad(np.array): Vector de desvios-padrão.\n",
    "        n(int): # observações.\n",
    "        p(int): Grau polinomial máximo.\n",
    "        X(np.array): Vector original de features.\n",
    "        y(np.array): Vector de valores target.\n",
    "    \n",
    "    Retorna:\n",
    "        None\n",
    "    '''\n",
    "    \n",
    "    eixo_x = np.linspace(min(X)-15,max(X)+25,2512)\n",
    "\n",
    "    xmat = featuresPolinomiais(eixo_x,p)\n",
    "    \n",
    "    xmat, _, _ = normalizarFeatures(xmat, media, desvpad)\n",
    "    \n",
    "    # Adicionar o vector de uns\n",
    "    vector_uns = np.ones((len(xmat),1))\n",
    "    xmat = np.hstack((vector_uns,xmat))     \n",
    "    #print(xmat)\n",
    "    graficoDados(X,y)\n",
    "    \n",
    "    h = np.dot(xmat,theta_optimo.reshape(theta_optimo.shape[0],1))\n",
    "    plt.plot(eixo_x,h,'b--')\n",
    "    \n",
    "    plt.legend(['Linha resultante do treino da regressão', 'Dados Reais'])"
   ]
  },
  {
   "cell_type": "code",
   "execution_count": 23,
   "metadata": {},
   "outputs": [
    {
     "data": {
      "image/png": "[encoded data removed]",
      "text/plain": [
       "<Figure size 432x288 with 1 Axes>"
      ]
     },
     "metadata": {
      "needs_background": "light"
     },
     "output_type": "display_data"
    }
   ],
   "source": [
    "graficoPolinomial(opt_theta_poli,media,desvpad,100, 8, X, y)"
   ]
  },
  {
   "cell_type": "markdown",
   "metadata": {},
   "source": [
    "# Exercício 4 - Tradeoff Enviesamento vs. Variância"
   ]
  },
  {
   "cell_type": "code",
   "execution_count": 24,
   "metadata": {},
   "outputs": [],
   "source": [
    "# Obter as curvas de aprendizagem para a regressão polinomial\n",
    "erro_treino_poli, erro_val_poli = curvasAprendizagem(regLinearFuncaoCusto, X_poli, y, X_poli_val, y_val, 100)"
   ]
  },
  {
   "cell_type": "code",
   "execution_count": 25,
   "metadata": {},
   "outputs": [
    {
     "data": {
      "text/plain": [
       "<matplotlib.legend.Legend at 0x11add0e48>"
      ]
     },
     "execution_count": 25,
     "metadata": {},
     "output_type": "execute_result"
    },
    {
     "data": {
      "image/png": "[encoded data removed]",
      "text/plain": [
       "<Figure size 432x288 with 1 Axes>"
      ]
     },
     "metadata": {
      "needs_background": "light"
     },
     "output_type": "display_data"
    }
   ],
   "source": [
    "# Verificar a função de custo nos conjuntos de treino e validação com um lambda de 100\n",
    "plt.plot(erro_treino_poli)\n",
    "plt.plot(erro_val_poli)\n",
    "plt.xlabel('Tamanho da amostra de treino')\n",
    "plt.ylabel('J (Função de custo / Erro)')\n",
    "plt.legend(['Conjunto de treino','Conjunto de validação'])"
   ]
  },
  {
   "cell_type": "markdown",
   "metadata": {},
   "source": [
    "A curva de aprendizagem é completamente diferente da curva de aprendizagem da regressão treinada com as features originais. A função de custo é mais elevada na maior parte das iterações já que os efeitos dos dados reais ainda não estão a ser capturados. E se colocarmos a regularização para 0?"
   ]
  },
  {
   "cell_type": "code",
   "execution_count": 26,
   "metadata": {},
   "outputs": [
    {
     "data": {
      "image/png": "[encoded data removed]",
      "text/plain": [
       "<Figure size 432x288 with 1 Axes>"
      ]
     },
     "metadata": {
      "needs_background": "light"
     },
     "output_type": "display_data"
    }
   ],
   "source": [
    "opt_theta_poli_lambda_0 = treinarRegressaoLinear(regLinearFuncaoCusto, X_poli, y, 0)\n",
    "graficoPolinomial(opt_theta_poli_lambda_0,media,desvpad,100, 8, X, y)"
   ]
  },
  {
   "cell_type": "markdown",
   "metadata": {},
   "source": [
    "A linha treinada ajustou-se perfeitamente aos pontos da curva. Agora a questão prende-se no aparecimento de novos pontos em que os dados não foram treinados. Com uma linha tão \"colada\" aos dados de treino, existe o risco de não termos um modelo generalizável."
   ]
  },
  {
   "cell_type": "code",
   "execution_count": 27,
   "metadata": {},
   "outputs": [],
   "source": [
    "# Obter as curvas de aprendizagem com um lambda = 0\n",
    "erro_treino_poli_lambda_0, erro_val_polo_lambda_0 = curvasAprendizagem(regLinearFuncaoCusto, X_poli, y, X_poli_val, y_val, 1)"
   ]
  },
  {
   "cell_type": "code",
   "execution_count": 28,
   "metadata": {},
   "outputs": [
    {
     "data": {
      "text/plain": [
       "<matplotlib.legend.Legend at 0x11af5d1d0>"
      ]
     },
     "execution_count": 28,
     "metadata": {},
     "output_type": "execute_result"
    },
    {
     "data": {
      "image/png": "[encoded data removed]",
      "text/plain": [
       "<Figure size 432x288 with 1 Axes>"
      ]
     },
     "metadata": {
      "needs_background": "light"
     },
     "output_type": "display_data"
    }
   ],
   "source": [
    "plt.plot(erro_treino_poli_lambda_0)\n",
    "plt.plot(erro_val_polo_lambda_0)\n",
    "plt.xlabel('Tamanho amostra de treino')\n",
    "plt.ylabel('J (Função de custo / Erro)')\n",
    "plt.legend(['Conjunto de treino','Conjunto de validação'])"
   ]
  },
  {
   "cell_type": "markdown",
   "metadata": {},
   "source": [
    "Agora, a questão prende-se: Como podemos seleccionar um lambda óptimo? "
   ]
  },
  {
   "cell_type": "code",
   "execution_count": 29,
   "metadata": {},
   "outputs": [],
   "source": [
    "def curvaValidacao(\n",
    "    regLinearFuncaoCusto: callable, \n",
    "    X: np.array, \n",
    "    y: np.array, \n",
    "    X_val: np.array, \n",
    "    y_val: np.array\n",
    ") -> [np.array, np.array]:\n",
    "    '''\n",
    "    Calcula os erros para o conjunto de treino e validação\n",
    "    para diferentes lambdas.\n",
    "    \n",
    "    Args:\n",
    "        regLinearFuncaoCusto(callable): Função utilizada\n",
    "        para calcular uma iteração da função de custo e gradiente.\n",
    "        X(np.array): Vector original de features.\n",
    "        y(np.array): Vector com valores target.\n",
    "        X_val(np.array): Vector original de features do conjunto de validação.\n",
    "        y_val(np.array): Vector com valores target do conjunto de validação.\n",
    "    '''\n",
    "    lambda_vec = np.array([0,0.001,0.003,0.01,0.03,0.1,0.3,1,3,10])\n",
    "    m = len(lambda_vec)\n",
    "    \n",
    "    # Placeholders para colocarmos os erros durante as iterações\n",
    "    erro_treino = np.zeros((m,1))\n",
    "    erro_val = np.zeros((m,1))\n",
    "    \n",
    "    for i in range(0,m):\n",
    "        opt_theta = treinarRegressaoLinear(regLinearFuncaoCusto, X, y, lambda_vec[i])\n",
    "        j_train = regLinearFuncaoCusto(opt_theta, X, y, lambda_vec[i])[0]\n",
    "        \n",
    "        erro_treino[i] = j_train\n",
    "        \n",
    "        j_val = regLinearFuncaoCusto(opt_theta, X_val, y_val, lambda_vec[i])[0]\n",
    "        \n",
    "        erro_val[i] = j_val\n",
    "        \n",
    "    return erro_treino, erro_val"
   ]
  },
  {
   "cell_type": "code",
   "execution_count": 30,
   "metadata": {},
   "outputs": [],
   "source": [
    "erro_treino_lambda, erro_val_lambda = curvaValidacao(regLinearFuncaoCusto, X_poli, y, X_poli_val, y_val)"
   ]
  },
  {
   "cell_type": "code",
   "execution_count": 31,
   "metadata": {},
   "outputs": [
    {
     "data": {
      "text/plain": [
       "<matplotlib.legend.Legend at 0x11b05ec18>"
      ]
     },
     "execution_count": 31,
     "metadata": {},
     "output_type": "execute_result"
    },
    {
     "data": {
      "image/png": "[encoded data removed]",
      "text/plain": [
       "<Figure size 432x288 with 1 Axes>"
      ]
     },
     "metadata": {
      "needs_background": "light"
     },
     "output_type": "display_data"
    }
   ],
   "source": [
    "# Calcular a função de custo ao longo dos diversos lambdas\n",
    "plt.plot(erro_treino_lambda)\n",
    "plt.plot(erro_val_lambda)\n",
    "plt.xlabel('Lambda')\n",
    "plt.ylabel('J (Função de Custo / Erro)')\n",
    "plt.legend(['Conjunto de treino','Conjunto de validação'])"
   ]
  },
  {
   "cell_type": "markdown",
   "metadata": {},
   "source": [
    "Iterar através de vários lambdas ajuda-nos a compreender o efeito da regularização na função de custo e a escolher o lambda óptimo. No lambda = 7 é onde encontramos um cruzamento entre as linhas do erro do conjunto de treino e teste e onde potencialmente conseguimos um equilíbrio entre enviesamento e variância. Se quisermos um modelo mais acertado mas com uma maior probabilidade de overfit também podemos utilizar um lambda de 6 já que o erro não varia muito entre os dois conjuntos."
   ]
  },
  {
   "cell_type": "markdown",
   "metadata": {},
   "source": [
    "<br>**Visualizando a nossa regressão com um lambda = 6:**"
   ]
  },
  {
   "cell_type": "code",
   "execution_count": 32,
   "metadata": {},
   "outputs": [
    {
     "data": {
      "image/png": "[encoded data removed]",
      "text/plain": [
       "<Figure size 432x288 with 1 Axes>"
      ]
     },
     "metadata": {
      "needs_background": "light"
     },
     "output_type": "display_data"
    }
   ],
   "source": [
    "opt_theta_lambda_6 = treinarRegressaoLinear(regLinearFuncaoCusto, X_poli, y, 6)\n",
    "graficoPolinomial(opt_theta_lambda_6,media,desvpad,100, 8, X, y)"
   ]
  }
 ],
 "metadata": {
  "kernelspec": {
   "display_name": "Python 3",
   "language": "python",
   "name": "python3"
  },
  "language_info": {
   "codemirror_mode": {
    "name": "ipython",
    "version": 3
   },
   "file_extension": ".py",
   "mimetype": "text/x-python",
   "name": "python",
   "nbconvert_exporter": "python",
   "pygments_lexer": "ipython3",
   "version": "3.7.3"
  }
 },
 "nbformat": 4,
 "nbformat_minor": 2
}
