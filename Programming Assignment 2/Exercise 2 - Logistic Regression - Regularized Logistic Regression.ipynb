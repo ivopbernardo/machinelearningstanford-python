{
 "cells": [
  {
   "cell_type": "markdown",
   "metadata": {},
   "source": [
    "The following script consists of a Python version of Andrew Ng Stanford Course 'Machine Learning' taught on the Coursera Platform\n",
    "Note: All exercise data and structure are credited to Stanford University \n",
    "\n",
    "Caveat: Contrary to the modularity presented in Octave scripts and as I'm using Jupyter Notebooks for educational purposes we will implement the functions on the same notebook where we will call them"
   ]
  },
  {
   "cell_type": "markdown",
   "metadata": {},
   "source": [
    "# Exercise 1 - Plotting the Data"
   ]
  },
  {
   "cell_type": "code",
   "execution_count": 1,
   "metadata": {},
   "outputs": [],
   "source": [
    "#Import numpy libraries to deal with matrixes and vectors\n",
    "import numpy as np\n",
    "#Import pandas do read data files\n",
    "import pandas as pd\n",
    "#Import matplotlib to plot data\n",
    "import matplotlib.pyplot as plt\n",
    "\n",
    "#Import math \n",
    "import math \n",
    "\n",
    "#Import scipy optimization function\n",
    "from scipy import optimize\n",
    "\n",
    "#Matplotlib notebook property\n",
    "%matplotlib inline"
   ]
  },
  {
   "cell_type": "code",
   "execution_count": 2,
   "metadata": {},
   "outputs": [
    {
     "name": "stdout",
     "output_type": "stream",
     "text": [
      "# of training examples: 118\n"
     ]
    }
   ],
   "source": [
    "#Read Text File and create X and y variables\n",
    "ex2_file = pd.read_csv('ex2data2.txt', header=None) \n",
    "X = np.array(ex2_file.iloc[:,0:2])\n",
    "y = np.array(ex2_file.iloc[:,2])\n",
    "\n",
    "\n",
    "print('# of training examples: {}'.format(len(X)))\n",
    "m = len(X)"
   ]
  },
  {
   "cell_type": "markdown",
   "metadata": {},
   "source": [
    "The data describes a situation of a fabrication plant of microchips. Each microchip passes two different quality tests and the plant manager wants to know how can he map the chips that were accepted and rejected.\n",
    "\n",
    "The result of each test is mapped in each variable of the X array and the result of accept/reject is mapped in the y variable.\n",
    "\n",
    "Plotting the dataset:"
   ]
  },
  {
   "cell_type": "code",
   "execution_count": 3,
   "metadata": {},
   "outputs": [],
   "source": [
    "def plotData(\n",
    "    X: np.array,\n",
    "    y: np.array\n",
    "):\n",
    "    '''\n",
    "    Plots a 2D scatter plot with each chip \n",
    "    by Test 1 and Test 2.\n",
    "    Accepted microchips are marked has a '+'\n",
    "    and rejected ones are marked as an 'o'\n",
    "    \n",
    "    Args:\n",
    "        X(np.array): Data with Test 1 and Test 2 results.\n",
    "        y(np.array): Outcome with chip acceptance result.\n",
    "    Returns:\n",
    "        None\n",
    "    '''\n",
    "    plt.scatter(X[y==0,0], X[y == 0,1], marker='o', edgecolors='black', color='yellow')\n",
    "    plt.scatter(X[y==1,0], X[y == 1,1], marker='+', facecolors='none', c='black')\n",
    "    plt.xlabel('Microchip Test 1')\n",
    "    plt.ylabel('Microchip Test 2')\n",
    "    plt.legend(('Rejected','Accepted'), loc='best', bbox_to_anchor=(1, 0.5))"
   ]
  },
  {
   "cell_type": "code",
   "execution_count": 4,
   "metadata": {},
   "outputs": [
    {
     "data": {
      "image/png": "[encoded data removed]",
      "text/plain": [
       "<Figure size 432x288 with 1 Axes>"
      ]
     },
     "metadata": {
      "needs_background": "light"
     },
     "output_type": "display_data"
    }
   ],
   "source": [
    "#Plot our data showing + marker for Accepted examples and 'o' marker for Rejected ones\n",
    "plotData(X,y)"
   ]
  },
  {
   "cell_type": "markdown",
   "metadata": {},
   "source": [
    "We have a binary target - we should try to fit a logistic regression.\n",
    "<br>\n",
    "The following exercise has two objectives: \n",
    "    - Teaching about regularization and how it can be used as a tool to avoid overfitting;\n",
    "    - Use polynomial features to enhance linear models;\n",
    "    \n",
    "<br>\n",
    "<br>\n",
    "The equations for the cost function and gradient with regularization are as follows - the regularization part consists of the second part of each equation that depends on λ):"
   ]
  },
  {
   "cell_type": "markdown",
   "metadata": {},
   "source": [
    "<img src=\"assets/CostFunctionRegularization.JPG\">"
   ]
  },
  {
   "cell_type": "markdown",
   "metadata": {},
   "source": [
    "<img src=\"assets/GradientRegularization.JPG\">"
   ]
  },
  {
   "cell_type": "markdown",
   "metadata": {},
   "source": [
    "Notice how the lambda parameter controls the regularization both for the cost function and the gradient.\n",
    "<br>\n",
    "A higher lambda (λ) parameter means a higher penalty on coefficients and thus a less capability of our features to impact our models' outcome."
   ]
  },
  {
   "cell_type": "markdown",
   "metadata": {},
   "source": [
    "# Exercise 2 -  Regularization"
   ]
  },
  {
   "cell_type": "code",
   "execution_count": 5,
   "metadata": {},
   "outputs": [],
   "source": [
    "# Note that there is impossible to use a line to separate these points. \n",
    "# We can't really find a way to cut the classes like the previous exercise \n",
    "\n",
    "# We want a kind of circle that isolate our plot in our linear features - so we will try to do a polynomial space to isolate this!\n",
    "# We will keep the polynomial degree = 6\n",
    "\n",
    "\n",
    "def mapFeature(\n",
    "    X1: np.array, \n",
    "    X2: np.array\n",
    ")-> np.array: \n",
    "    \"\"\"\n",
    "    Map polinomial features until 6th degree\n",
    "    \n",
    "    Args:\n",
    "        X1(np.array): First column of the features.\n",
    "        X2(np.array): Second column of the features.\n",
    "        \n",
    "    Returns:\n",
    "        out(np.array): Result of polynomial features of degree 6\n",
    "    \"\"\"\n",
    "    #Add column of ones to the array \n",
    "    out = np.ones((X1.shape[0],1))\n",
    "    degree = 6\n",
    "    for i in range(1,degree+1):\n",
    "        for j in range(0,i+1):\n",
    "            new_poly_feature = (X1**(i-j))*(X2**j)\n",
    "            out = np.hstack((out, new_poly_feature.reshape(len(out),1)))\n",
    "    return out"
   ]
  },
  {
   "cell_type": "code",
   "execution_count": 6,
   "metadata": {},
   "outputs": [],
   "source": [
    "# Create polynomial features\n",
    "X_Poly = mapFeature(X[:,0], X[:,1])"
   ]
  },
  {
   "cell_type": "markdown",
   "metadata": {},
   "source": [
    "Let's initialize a dummy theta array:"
   ]
  },
  {
   "cell_type": "code",
   "execution_count": 7,
   "metadata": {},
   "outputs": [],
   "source": [
    "# Initialize the Theta parameters \n",
    "initial_theta = np.zeros(X_Poly.shape[1])"
   ]
  },
  {
   "cell_type": "code",
   "execution_count": 8,
   "metadata": {},
   "outputs": [],
   "source": [
    "#Set lambda to 1 - renaming it lambdas python has the keyword lambdas\n",
    "lambdas = 1 "
   ]
  },
  {
   "cell_type": "code",
   "execution_count": 12,
   "metadata": {},
   "outputs": [],
   "source": [
    "#Define sigmoid function \n",
    "def sigmoid(\n",
    "    x: np.array\n",
    ")-> np.array:\n",
    "    \"\"\"\n",
    "    Computes sigmoid value of array x\n",
    "    \n",
    "    Args:\n",
    "        x(np.array): Array with original hypothesis\n",
    "    Returns:\n",
    "        (np.array): Array with the resulting sigmoid\n",
    "    \"\"\"\n",
    "    return(1 / (1 + np.exp(-x)))"
   ]
  },
  {
   "cell_type": "code",
   "execution_count": 15,
   "metadata": {},
   "outputs": [],
   "source": [
    "# Define cost and gradient with regularization\n",
    "def costFunctionReg(\n",
    "    theta: np.array,\n",
    "    X: np.array, \n",
    "    y: np.array, \n",
    "    lambdas: int\n",
    ") -> [int, np.array]:\n",
    "    \"\"\"\n",
    "    Defines cost function with regulariation\n",
    "    and computes gradient.\n",
    "    \n",
    "    Args:\n",
    "        theta(np.array): Initial theta values;\n",
    "        X(np.array): Original features.\n",
    "        y(np.array): Target value / outcome\n",
    "        lambdas(int): lambda applied for regularization\n",
    "    \"\"\"\n",
    "    m = len(X)\n",
    "    \n",
    "    # Penalize cases where the algorithm misclassified true positives\n",
    "    cost_function_1 = np.dot(-y.T,np.log(sigmoid(np.dot(theta.T,X.T))))\n",
    "    # Penalize cases where the algorithm misclassified true negatives\n",
    "    cost_function_2 = np.dot((1-y).T,np.log(1-sigmoid(np.dot(theta.T,X.T))))\n",
    "    \n",
    "    # Calculate cost function without regularization\n",
    "    J = (1/m) * (cost_function_1 - cost_function_2)\n",
    "    # Apply regulatization to cost function\n",
    "    J = J+((lambdas/(2*m))*sum(theta[1:]**2))\n",
    "    \n",
    "    reg = (lambdas/m)*theta\n",
    "    \n",
    "    # Theta0 is not regularized\n",
    "    reg[0] = 0 \n",
    "    \n",
    "    # Initialize Gradient\n",
    "    grad = (sigmoid(np.dot(theta.T, X.T)) - y.T)\n",
    "    \n",
    "    # Apply regularization\n",
    "    grad = (np.dot(grad,X)/m).T + reg\n",
    "    \n",
    "    return J, grad"
   ]
  },
  {
   "cell_type": "code",
   "execution_count": 16,
   "metadata": {},
   "outputs": [],
   "source": [
    "cost, grad = costFunctionReg(initial_theta, X_Poly, y, lambdas)"
   ]
  },
  {
   "cell_type": "code",
   "execution_count": 17,
   "metadata": {},
   "outputs": [
    {
     "name": "stdout",
     "output_type": "stream",
     "text": [
      "Cost at initial theta is 0.693\n",
      "Gradient at initial theta is [0.008 0.019 0.    0.05  0.012 0.038 0.018 0.007 0.008 0.023 0.039 0.002\n",
      " 0.013 0.003 0.039 0.02  0.004 0.003 0.006 0.004 0.031 0.031 0.001 0.006\n",
      " 0.    0.007 0.001 0.039]\n"
     ]
    }
   ],
   "source": [
    "print('Cost at initial theta is {}'.format(np.round(cost,3)))\n",
    "print('Gradient at initial theta is {}'.format(np.round(grad,3)))"
   ]
  },
  {
   "cell_type": "code",
   "execution_count": 18,
   "metadata": {},
   "outputs": [],
   "source": [
    "#Check cost function and gradient with vector of thetas = 1 and lambda = 10\n",
    "test_theta = np.ones(X_Poly.shape[1])\n",
    "lambdas = 10"
   ]
  },
  {
   "cell_type": "code",
   "execution_count": 19,
   "metadata": {},
   "outputs": [],
   "source": [
    "cost, grad = costFunctionReg(test_theta, X_Poly, y, lambdas)"
   ]
  },
  {
   "cell_type": "code",
   "execution_count": 20,
   "metadata": {},
   "outputs": [
    {
     "name": "stdout",
     "output_type": "stream",
     "text": [
      "Cost at initial theta is 3.165\n",
      "Gradient at initial theta is [0.346 0.161 0.195 0.227 0.092 0.244 0.143 0.108 0.102 0.183 0.174 0.087\n",
      " 0.118 0.086 0.2   0.135 0.095 0.094 0.1   0.091 0.175 0.15  0.087 0.099\n",
      " 0.085 0.102 0.085 0.182]\n"
     ]
    }
   ],
   "source": [
    "print('Cost at initial theta is {}'.format(np.round(cost,3)))\n",
    "print('Gradient at initial theta is {}'.format(np.round(grad,3)))"
   ]
  },
  {
   "cell_type": "markdown",
   "metadata": {},
   "source": [
    "# Exercise 3 -  Regularization and Accuracies"
   ]
  },
  {
   "cell_type": "markdown",
   "metadata": {},
   "source": [
    "Just as we have done in other regression problems, we will minimize our cost function in function of theta."
   ]
  },
  {
   "cell_type": "code",
   "execution_count": 21,
   "metadata": {},
   "outputs": [],
   "source": [
    "# Initialize the Theta parameters with 0's\n",
    "\n",
    "initial_theta = np.zeros(X_Poly.shape[1])"
   ]
  },
  {
   "cell_type": "code",
   "execution_count": 22,
   "metadata": {},
   "outputs": [],
   "source": [
    "# Set lambda to 1 \n",
    "lambdas = 1"
   ]
  },
  {
   "cell_type": "code",
   "execution_count": 26,
   "metadata": {},
   "outputs": [],
   "source": [
    "# set options for optimize.minimize\n",
    "options= {'maxiter': 400}\n",
    "\n",
    "# implementation based on Gerges Dib (github user:dibgerge) - optimizing our costFunction using scipy optimize library. \n",
    "# We minimize the cost function starting on the initial theta \n",
    "# TNC means Truncated Newton Algorithm and maxiter is set to 400 to match the implementation of Andrew octave script\n",
    "\n",
    "res = optimize.minimize(costFunctionReg,\n",
    "                        initial_theta,\n",
    "                        (X_Poly, y, lambdas),\n",
    "                        jac=True,\n",
    "                        method='TNC',\n",
    "                        options=options)"
   ]
  },
  {
   "cell_type": "code",
   "execution_count": 24,
   "metadata": {},
   "outputs": [
    {
     "name": "stdout",
     "output_type": "stream",
     "text": [
      "Optimal cost found by optimize method: 0.529002729964516\n",
      "Optimal theta vector found by optimize method: [ 1.27271026  0.62529964  1.18111686 -2.01987398 -0.9174319  -1.43166928\n",
      "  0.12393227 -0.36553118 -0.35725403 -0.17516292 -1.4581701  -0.05098418\n",
      " -0.61558553 -0.27469165 -1.19271298 -0.2421784  -0.20603298 -0.04466178\n",
      " -0.27778951 -0.29539514 -0.45645982 -1.04319154  0.02779373 -0.29244871\n",
      "  0.0155576  -0.32742405 -0.1438915  -0.92467487]\n"
     ]
    }
   ],
   "source": [
    "cost = res.fun\n",
    "opt_theta = res.x\n",
    "print('Optimal cost found by optimize method: {}'.format(float(res.fun)))\n",
    "print('Optimal theta vector found by optimize method: {}'.format(opt_theta))"
   ]
  },
  {
   "cell_type": "markdown",
   "metadata": {},
   "source": [
    "We were able to minimize our log loss average function to ~0.53, a huge improvement from our initial values with an arbitrary theta. How is our decision boundary behaving with this regularized polynomial regression?"
   ]
  },
  {
   "cell_type": "code",
   "execution_count": 27,
   "metadata": {},
   "outputs": [],
   "source": [
    "def plotDecisionBoundary(\n",
    "    optimal_theta: np.array, \n",
    "    X: np.array,\n",
    "    y: np.array\n",
    ")-> None:\n",
    "    '''\n",
    "    Plots decision boundary between classes\n",
    "    y = 0 and y = 1 using X*optimal theta calculation\n",
    "    \n",
    "    Args:\n",
    "        optimal_theta(np.array): The weights that will be applied to each of the variables.\n",
    "        X(np.array): The values of the original variables - Test 1 and Test 2 for each chip.\n",
    "        y(np.array): The outcome of each chip.\n",
    "        \n",
    "    Returns:\n",
    "        None\n",
    "    '''\n",
    "    plotData(X,y)\n",
    "    # Plot contour to get the decision boundary \n",
    "    # Use a linear space to plot the contour over each hypothesis calculated \n",
    "    \n",
    "    u = np.linspace(-1, 1.5, 50)\n",
    "    v = np.linspace(-1, 1.5, 50)\n",
    "    z = np.zeros([len(u), len(v)])    \n",
    "    \n",
    "    for i in np.arange(0,u.shape[0]):\n",
    "        for j in np.arange(0,v.shape[0]):\n",
    "            temp = np.array(u[i])\n",
    "            z[i,j] = np.dot(mapFeature(np.array(u[i]).reshape(1), np.array(v[j]).reshape(1)), optimal_theta)\n",
    "    \n",
    "    plt.contour(u,v,z.T,0)"
   ]
  },
  {
   "cell_type": "code",
   "execution_count": 28,
   "metadata": {},
   "outputs": [
    {
     "data": {
      "image/png": "[encoded data removed]",
      "text/plain": [
       "<Figure size 432x288 with 1 Axes>"
      ]
     },
     "metadata": {
      "needs_background": "light"
     },
     "output_type": "display_data"
    }
   ],
   "source": [
    "plotDecisionBoundary(opt_theta, X,y)"
   ]
  },
  {
   "cell_type": "markdown",
   "metadata": {},
   "source": [
    "We can finally take a look at our accuracy: "
   ]
  },
  {
   "cell_type": "code",
   "execution_count": 29,
   "metadata": {},
   "outputs": [],
   "source": [
    "# Computing the Accuracy for out training Set\n",
    "def predict(theta: np.array, \n",
    "            X: np.array, thres: float)-> np.array:\n",
    "    #Add column of ones to the array \n",
    "    m = len(X)\n",
    "    p = sigmoid(np.dot(X, theta.T))\n",
    "    p = np.where(p>= thres,1,0)\n",
    "    return p"
   ]
  },
  {
   "cell_type": "code",
   "execution_count": 30,
   "metadata": {},
   "outputs": [],
   "source": [
    "p = predict(opt_theta, X_Poly, 0.5)"
   ]
  },
  {
   "cell_type": "code",
   "execution_count": 31,
   "metadata": {},
   "outputs": [
    {
     "name": "stdout",
     "output_type": "stream",
     "text": [
      "We have got 83% of the examples of the training set using a decision boundary of 50%\n"
     ]
    }
   ],
   "source": [
    "# Check the accuracy of our model \n",
    "print('We have got {:.0%} of the examples of the training set using a decision boundary of 50%'.format(sum(p == y)/len(X_Poly)))"
   ]
  }
 ],
 "metadata": {
  "kernelspec": {
   "display_name": "Python 3",
   "language": "python",
   "name": "python3"
  },
  "language_info": {
   "codemirror_mode": {
    "name": "ipython",
    "version": 3
   },
   "file_extension": ".py",
   "mimetype": "text/x-python",
   "name": "python",
   "nbconvert_exporter": "python",
   "pygments_lexer": "ipython3",
   "version": "3.7.3"
  }
 },
 "nbformat": 4,
 "nbformat_minor": 2
}
