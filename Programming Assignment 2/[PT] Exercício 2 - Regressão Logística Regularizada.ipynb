{
 "cells": [
  {
   "cell_type": "markdown",
   "metadata": {},
   "source": [
    "Os seguintes scripts são uma versão Python do curso de Machine Learning do professor Andrew Ng da universidade de Stanford leccionado na plataforma Coursera.\n",
    "\n",
    "**Nota: Todos os dados e estrutura do exercício pertencem à Universidade de Stanford**\n",
    "\n",
    "**Ressalva:** Os scripts não estão implementados de forma modular para todas as funções serem consultadas no mesmo Jupyter Notebook - ao contrário da implementação Octave."
   ]
  },
  {
   "cell_type": "markdown",
   "metadata": {},
   "source": [
    "# Exercício 1 - Gráfico dos dados"
   ]
  },
  {
   "cell_type": "code",
   "execution_count": 2,
   "metadata": {},
   "outputs": [],
   "source": [
    "# Importar o numpy para lidar com vectores e matrizes\n",
    "import numpy as np\n",
    "# Importar o pandas para ler os dados\n",
    "import pandas as pd\n",
    "# Importar o matplotlib para gráficos\n",
    "import matplotlib.pyplot as plt\n",
    "\n",
    "# Importar o módulo de matemática\n",
    "import math \n",
    "\n",
    "# Importar o scipy para recorrer ao módulo de optimização\n",
    "from scipy import optimize\n",
    "\n",
    "#Matplotlib notebook propriedade\n",
    "%matplotlib inline"
   ]
  },
  {
   "cell_type": "code",
   "execution_count": 3,
   "metadata": {},
   "outputs": [
    {
     "name": "stdout",
     "output_type": "stream",
     "text": [
      "# de exemplos de treino: 118\n"
     ]
    }
   ],
   "source": [
    "# Ler o ficheiro texto e colocar em variáveis X e y\n",
    "ex2_file = pd.read_csv('ex2data2.txt', header=None) \n",
    "X = np.array(ex2_file.iloc[:,0:2])\n",
    "y = np.array(ex2_file.iloc[:,2])\n",
    "\n",
    "print('# de exemplos de treino: {}'.format(len(X)))\n",
    "m = len(X)"
   ]
  },
  {
   "cell_type": "markdown",
   "metadata": {},
   "source": [
    "Os dados descrevem uma situação de uma fábrica de microprocessadores. Cada microprocessador passa por dois processos de qualidade distintos e o gestor da fábrica quer perceber como, com base nestes dois testes, pode mapear os processadores que foram aceitados ou rejeitados para venda.\n",
    "\n",
    "O resultado de cada teste está mapeado no vector X (2 dimensões) e a decisão de aceitação para venda está mapeada no vector y.\n",
    "\n",
    "Vamos verificar, graficamente:"
   ]
  },
  {
   "cell_type": "code",
   "execution_count": 4,
   "metadata": {},
   "outputs": [],
   "source": [
    "def graficoDados(\n",
    "    X: np.array,\n",
    "    y: np.array\n",
    "):\n",
    "    '''\n",
    "    Gráfico de pontos 2D por cada microprocessador\n",
    "    para o Teste 1 e Teste 2.\n",
    "    Microprocessadores aceites são marcados com um \"+\"\n",
    "    e os rejeitados com um símbolo \"o\".\n",
    "    \n",
    "    Argumentos:\n",
    "        X(np.array): Dados com o resultado do Teste 1 e Teste 2 por microprocessador.\n",
    "        y(np.array): Resultado de aceitação do microprocessador.\n",
    "    Retorna:\n",
    "        None\n",
    "    '''\n",
    "    plt.scatter(X[y==0,0], X[y == 0,1], marker='o', edgecolors='black', color='yellow')\n",
    "    plt.scatter(X[y==1,0], X[y == 1,1], marker='+', facecolors='none', c='black')\n",
    "    plt.xlabel('Teste 1')\n",
    "    plt.ylabel('Teste 2')\n",
    "    plt.legend(('Rejeitado','Aceite'), loc='best', bbox_to_anchor=(1, 0.5))"
   ]
  },
  {
   "cell_type": "code",
   "execution_count": 5,
   "metadata": {},
   "outputs": [
    {
     "data": {
      "image/png": "[encoded data removed]",
      "text/plain": [
       "<Figure size 432x288 with 1 Axes>"
      ]
     },
     "metadata": {
      "needs_background": "light"
     },
     "output_type": "display_data"
    }
   ],
   "source": [
    "graficoDados(X,y)"
   ]
  },
  {
   "cell_type": "markdown",
   "metadata": {},
   "source": [
    "O nosso target é binário - vamos utilizar uma regressão logística.\n",
    "<br>\n",
    "O exercício tem dois objectivos:\n",
    "    - Ensinar sobre regularização é como ela é uma ferramenta poderosa para evitar o \"overfitting\", ou um modelo com elevada variância (será estudado em detalhe mais à frente);\n",
    "    - Perceber o efeito de features polinomiais para melhorar modelos lineares;\n",
    "    \n",
    "<br>\n",
    "<br>\n",
    "As equações para a função de custo e o gradiente, ambos com regularização, estão abaixo. Note-se que a parte consistence à regularização é a parte da equação que depende de λ:"
   ]
  },
  {
   "cell_type": "markdown",
   "metadata": {},
   "source": [
    "<img src=\"assets/CostFunctionRegularization.JPG\">"
   ]
  },
  {
   "cell_type": "markdown",
   "metadata": {},
   "source": [
    "<img src=\"assets/GradientRegularization.JPG\">"
   ]
  },
  {
   "cell_type": "markdown",
   "metadata": {},
   "source": [
    "Notemos como o parâmetro λ é capaz de controlar a regularização tanto da função de custo (neste caso, a função log-loss) .\n",
    "<br>\n",
    "Um lambda (λ) maior, significa que penalizamos mais os coeficientes e por consequente temos uma maior regularização."
   ]
  },
  {
   "cell_type": "markdown",
   "metadata": {},
   "source": [
    "# Exercício 2 -  Regularização"
   ]
  },
  {
   "cell_type": "code",
   "execution_count": 7,
   "metadata": {},
   "outputs": [],
   "source": [
    "# É impossível encontrarmos uma linha que separe os pontos de forma quase-perfeita. \n",
    "# Não conseguimos encontrar uma linha que faça este corte entre classes, como no exercício anterior.\n",
    "\n",
    "# Visualmente, verificamos que queremos uma espécie de círculo - e é aqui que as features polinomiais nos podem ajudar.\n",
    "# O grau máximo de polinomial que vamos utilizar é o grau 6.\n",
    "\n",
    "def mapearFeature(\n",
    "    X1: np.array, \n",
    "    X2: np.array\n",
    ")-> np.array: \n",
    "    \"\"\"\n",
    "    Mapeia as features polinomiais até ao grau 6.\n",
    "    \n",
    "    Argumentos:\n",
    "        X1(np.array): Primeira coluna das variáveis originais.\n",
    "        X2(np.array): Segunda coluna das variáveis originais.\n",
    "        \n",
    "    Retorna:\n",
    "        out(np.array): Resultado das features polinomiais até ao grau 6.\n",
    "    \"\"\"\n",
    "    # Aproveitamos para adicionar a coluna de uns \n",
    "    out = np.ones((X1.shape[0],1))\n",
    "    grau = 6\n",
    "    for i in range(1,grau+1):\n",
    "        for j in range(0,i+1):\n",
    "            nova_feature_polinomial = (X1**(i-j))*(X2**j)\n",
    "            out = np.hstack((out, nova_feature_polinomial.reshape(len(out),1)))\n",
    "    return out"
   ]
  },
  {
   "cell_type": "code",
   "execution_count": 12,
   "metadata": {},
   "outputs": [],
   "source": [
    "# Criar as features polinomiais\n",
    "X_Poli = mapearFeature(X[:,0], X[:,1])"
   ]
  },
  {
   "cell_type": "code",
   "execution_count": 13,
   "metadata": {},
   "outputs": [
    {
     "data": {
      "text/plain": [
       "(118, 28)"
      ]
     },
     "execution_count": 13,
     "metadata": {},
     "output_type": "execute_result"
    }
   ],
   "source": [
    "X_Poli.shape"
   ]
  },
  {
   "cell_type": "markdown",
   "metadata": {},
   "source": [
    "Vamos inicial um theta \"dummy\", de zeros:"
   ]
  },
  {
   "cell_type": "code",
   "execution_count": 14,
   "metadata": {},
   "outputs": [],
   "source": [
    "# Inicializar theta\n",
    "theta_inicial = np.zeros(X_Poli.shape[1])"
   ]
  },
  {
   "cell_type": "code",
   "execution_count": 16,
   "metadata": {},
   "outputs": [],
   "source": [
    "# Colocar lambda (parametro regularização) = 1, chamamos lambdas por causa da palavra-chave reservada do python lambda\n",
    "lambdas = 1 "
   ]
  },
  {
   "cell_type": "code",
   "execution_count": 17,
   "metadata": {},
   "outputs": [],
   "source": [
    "# Definir a função sigmóide \n",
    "def sigmoide(\n",
    "    x: np.array\n",
    ")-> [float, np.array]:\n",
    "    \"\"\"\n",
    "    Computar o valor sigmóide para o vector X\n",
    "    \n",
    "    Args:\n",
    "        x(np.array): Vector com a hipótese original\n",
    "    Returns:\n",
    "        (np.array): Vector com a sigmóide resultante\n",
    "    \"\"\"\n",
    "    return(1 / (1 + np.exp(-x)))"
   ]
  },
  {
   "cell_type": "code",
   "execution_count": 20,
   "metadata": {},
   "outputs": [],
   "source": [
    "# Definir a função de custo e o grafiente com regularização\n",
    "\n",
    "def custoGradienteTheta(\n",
    "    theta: np.array,\n",
    "    X: np.array, \n",
    "    y: np.array, \n",
    "    lambdas: int\n",
    ") -> [int, np.array]:\n",
    "    \"\"\"\n",
    "    Define a função de custo com regularização \n",
    "    e calcula o gradiente.\n",
    "    \n",
    "    Argumentoss:\n",
    "        theta(np.array): Valores iniciais de theta;\n",
    "        X(np.array): Features originais;\n",
    "        y(np.array): Valor target;\n",
    "        lambdas(int): Lambda aplicado para regularização.\n",
    "    \"\"\"\n",
    "    m = len(X)\n",
    "    \n",
    "    # Penalizar o custo quando classificamos mal o outcome positivo\n",
    "    funcao_custo_1 = np.dot(-y.T,np.log(sigmoide(np.dot(theta.T,X.T))))\n",
    "    # Penalizar o custo quando classificamos mal o outcome negativo\n",
    "    funcao_custo_2 = np.dot((1-y).T,np.log(1-sigmoide(np.dot(theta.T,X.T))))\n",
    "    \n",
    "    # Calcular a funcao de custo sem regularização\n",
    "    J = (1/m) * (funcao_custo_1 - funcao_custo_2)\n",
    "    # Aplicar a regularização à função de custo\n",
    "    J = J+((lambdas/(2*m))*sum(theta[1:]**2))\n",
    "    \n",
    "    reg = (lambdas/m)*theta\n",
    "    \n",
    "    # O Theta 0 - Intercept e coluna de uns - não é regularizado\n",
    "    reg[0] = 0 \n",
    "    \n",
    "    # Inicializar gradiente\n",
    "    grad = (sigmoide(np.dot(theta.T, X.T)) - y.T)\n",
    "    \n",
    "    # Aplicar regularização\n",
    "    grad = (np.dot(grad,X)/m).T + reg\n",
    "    \n",
    "    return J, grad"
   ]
  },
  {
   "cell_type": "code",
   "execution_count": 21,
   "metadata": {},
   "outputs": [],
   "source": [
    "custo, grad = custoGradienteTheta(theta_inicial, X_Poli, y, lambdas)"
   ]
  },
  {
   "cell_type": "code",
   "execution_count": 24,
   "metadata": {},
   "outputs": [
    {
     "name": "stdout",
     "output_type": "stream",
     "text": [
      "Custo com um theta de zeros 0.693\n",
      "Gradiente com um theta de zeros is [0.008 0.019 0.    0.05  0.012 0.038 0.018 0.007 0.008 0.023 0.039 0.002\n",
      " 0.013 0.003 0.039 0.02  0.004 0.003 0.006 0.004 0.031 0.031 0.001 0.006\n",
      " 0.    0.007 0.001 0.039]\n"
     ]
    }
   ],
   "source": [
    "print('Custo com um theta de zeros {}'.format(np.round(custo,3)))\n",
    "print('Gradiente com um theta de zeros is {}'.format(np.round(grad,3)))"
   ]
  },
  {
   "cell_type": "code",
   "execution_count": 26,
   "metadata": {},
   "outputs": [],
   "source": [
    "# Verificar a função de custo com os thetas = vector de uns e com um lambda de 10\n",
    "theta_teste = np.ones(X_Poli.shape[1])\n",
    "lambdas = 10"
   ]
  },
  {
   "cell_type": "code",
   "execution_count": 27,
   "metadata": {},
   "outputs": [],
   "source": [
    "custo, grad = custoGradienteTheta(theta_teste, X_Poli, y, lambdas)"
   ]
  },
  {
   "cell_type": "code",
   "execution_count": 31,
   "metadata": {},
   "outputs": [
    {
     "name": "stdout",
     "output_type": "stream",
     "text": [
      "Custo com um theta de 1's e lambda = 10 3.165\n",
      "Gradiente com um theta de 1's e lambda = 10 [0.346 0.161 0.195 0.227 0.092 0.244 0.143 0.108 0.102 0.183 0.174 0.087\n",
      " 0.118 0.086 0.2   0.135 0.095 0.094 0.1   0.091 0.175 0.15  0.087 0.099\n",
      " 0.085 0.102 0.085 0.182]\n"
     ]
    }
   ],
   "source": [
    "print('Custo com um theta de 1\\'s e lambda = 10 {}'.format(np.round(custo,3)))\n",
    "print('Gradiente com um theta de 1\\'s e lambda = 10 {}'.format(np.round(grad,3)))"
   ]
  },
  {
   "cell_type": "markdown",
   "metadata": {},
   "source": [
    "# Exercício 3 -  Regularização e Exactidão"
   ]
  },
  {
   "cell_type": "markdown",
   "metadata": {},
   "source": [
    "Vamos agora minimizar a nossa função de custo em função de theta."
   ]
  },
  {
   "cell_type": "code",
   "execution_count": 32,
   "metadata": {},
   "outputs": [],
   "source": [
    "# Inicializar o theta com 0's\n",
    "\n",
    "theta_inicial = np.zeros(X_Poly.shape[1])"
   ]
  },
  {
   "cell_type": "code",
   "execution_count": 33,
   "metadata": {},
   "outputs": [],
   "source": [
    "# Colocar o lambda a 1 \n",
    "lambdas = 1"
   ]
  },
  {
   "cell_type": "code",
   "execution_count": 35,
   "metadata": {},
   "outputs": [],
   "source": [
    "# parametrizar as opções para a função optimize.minimize\n",
    "opcoes= {'maxiter': 400}\n",
    "\n",
    "# implementação baseada na do utilizador Gerges Dib (github user:dibgerge) - optimizamos o nosso custo com base no scipy.\n",
    "# minimizamos o custo a começar no nosso theta the 0's\n",
    "# TNC significa Truncated Newton Algorithm e vamos realizar 400 iterações\n",
    "\n",
    "res = optimize.minimize(custoGradienteTheta,\n",
    "                        theta_inicial,\n",
    "                        (X_Poli, y, lambdas),\n",
    "                        jac=True,\n",
    "                        method='TNC',\n",
    "                        options=opcoes)"
   ]
  },
  {
   "cell_type": "code",
   "execution_count": 36,
   "metadata": {},
   "outputs": [
    {
     "name": "stdout",
     "output_type": "stream",
     "text": [
      "Custo óptimo encontrado pelo método de optimização: 0.529002729964516\n",
      "Vector de thetas encontrado pelo método de optimização: [ 1.27271026  0.62529964  1.18111686 -2.01987398 -0.9174319  -1.43166928\n",
      "  0.12393227 -0.36553118 -0.35725403 -0.17516292 -1.4581701  -0.05098418\n",
      " -0.61558553 -0.27469165 -1.19271298 -0.2421784  -0.20603298 -0.04466178\n",
      " -0.27778951 -0.29539514 -0.45645982 -1.04319154  0.02779373 -0.29244871\n",
      "  0.0155576  -0.32742405 -0.1438915  -0.92467487]\n"
     ]
    }
   ],
   "source": [
    "custo = res.fun\n",
    "opt_theta = res.x\n",
    "print('Custo óptimo encontrado pelo método de optimização: {}'.format(float(custo)))\n",
    "print('Vector de thetas encontrado pelo método de optimização: {}'.format(opt_theta))"
   ]
  },
  {
   "cell_type": "markdown",
   "metadata": {},
   "source": [
    "Minimizámos a nossa função de custo para ~0.53, uma grande melhoria relativamente ao custo com os theta's = 0. Como se comporta a nossa fronteira de decisão com base nestes thetas para as features polinomiais?"
   ]
  },
  {
   "cell_type": "code",
   "execution_count": 37,
   "metadata": {},
   "outputs": [],
   "source": [
    "def graficoFronteiraDecisao(\n",
    "    theta_optimo: np.array, \n",
    "    X: np.array,\n",
    "    y: np.array\n",
    ")-> None:\n",
    "    '''\n",
    "    Grafico da fronteira de decisão entre as classes \n",
    "    y = 0 e y = 1 usando o cálculo \"X*theta_optimo\"\n",
    "    \n",
    "    Argumentos:\n",
    "        theta_optimo(np.array): Peso a ser aplicado a cada umas variáveis depois da transformação polinomial.\n",
    "        X(np.array): Os valores das variáveis originais - Teste 1 e Teste 2 para cada microprocessaodor.\n",
    "        y(np.array): O resultado de aceitação de cada chip.\n",
    "        \n",
    "    Retorna:\n",
    "        None\n",
    "    '''\n",
    "    graficoDados(X,y)\n",
    "    # Usar o contour para colocar a fronteira de decisão\n",
    "    # Usar um espaço linear bidimensional para mapear a fronteira\n",
    "    \n",
    "    u = np.linspace(-1, 1.5, 50)\n",
    "    v = np.linspace(-1, 1.5, 50)\n",
    "    z = np.zeros([len(u), len(v)])    \n",
    "    \n",
    "    for i in np.arange(0,u.shape[0]):\n",
    "        for j in np.arange(0,v.shape[0]):\n",
    "            temp = np.array(u[i])\n",
    "            z[i,j] = np.dot(mapearFeature(np.array(u[i]).reshape(1), np.array(v[j]).reshape(1)), theta_optimo)\n",
    "    \n",
    "    plt.contour(u,v,z.T,0)"
   ]
  },
  {
   "cell_type": "code",
   "execution_count": 39,
   "metadata": {},
   "outputs": [
    {
     "data": {
      "image/png": "[encoded data removed]",
      "text/plain": [
       "<Figure size 432x288 with 1 Axes>"
      ]
     },
     "metadata": {
      "needs_background": "light"
     },
     "output_type": "display_data"
    }
   ],
   "source": [
    "graficoFronteiraDecisao(opt_theta, X,y)"
   ]
  },
  {
   "cell_type": "markdown",
   "metadata": {},
   "source": [
    "Podemos agora olhar para a exactidão (accuracy) do nosso algoritmo: "
   ]
  },
  {
   "cell_type": "code",
   "execution_count": 40,
   "metadata": {},
   "outputs": [],
   "source": [
    "# Calcular a exactidão do algoritmo\n",
    "def prever(theta: np.array, \n",
    "            X: np.array, thres: float)-> np.array:\n",
    "    #Adicionar uma coluna de uns \n",
    "    m = len(X)\n",
    "    p = sigmoide(np.dot(X, theta.T))\n",
    "    p = np.where(p>= thres,1,0)\n",
    "    return p"
   ]
  },
  {
   "cell_type": "code",
   "execution_count": 41,
   "metadata": {},
   "outputs": [],
   "source": [
    "p = prever(opt_theta, X_Poli, 0.5)"
   ]
  },
  {
   "cell_type": "code",
   "execution_count": 42,
   "metadata": {},
   "outputs": [
    {
     "name": "stdout",
     "output_type": "stream",
     "text": [
      "Usando uma fronteira de decisão de 50%, obtivemos uma exactidão de 83%\n"
     ]
    }
   ],
   "source": [
    "# Verificar a exactidão do algoritmo\n",
    "print('Usando uma fronteira de decisão de 50%, obtivemos uma exactidão de {:.0%}'.format(sum(p == y)/len(X_Poli)))"
   ]
  }
 ],
 "metadata": {
  "kernelspec": {
   "display_name": "Python 3",
   "language": "python",
   "name": "python3"
  },
  "language_info": {
   "codemirror_mode": {
    "name": "ipython",
    "version": 3
   },
   "file_extension": ".py",
   "mimetype": "text/x-python",
   "name": "python",
   "nbconvert_exporter": "python",
   "pygments_lexer": "ipython3",
   "version": "3.7.3"
  }
 },
 "nbformat": 4,
 "nbformat_minor": 2
}
